{
  "nbformat": 4,
  "nbformat_minor": 0,
  "metadata": {
    "colab": {
      "name": "Copy of Bel_June.ipynb",
      "provenance": [],
      "include_colab_link": true
    },
    "kernelspec": {
      "name": "python3",
      "display_name": "Python 3"
    },
    "language_info": {
      "name": "python"
    }
  },
  "cells": [
    {
      "cell_type": "markdown",
      "metadata": {
        "id": "view-in-github",
        "colab_type": "text"
      },
      "source": [
        "<a href=\"https://colab.research.google.com/github/imishadash/test_repo/blob/master/Copy_of_Bel_June.ipynb\" target=\"_parent\"><img src=\"https://colab.research.google.com/assets/colab-badge.svg\" alt=\"Open In Colab\"/></a>"
      ]
    },
    {
      "cell_type": "markdown",
      "metadata": {
        "id": "hTMt8q5x03Na"
      },
      "source": [
        "# Day 1 - 9th June - 2021"
      ]
    },
    {
      "cell_type": "code",
      "metadata": {
        "colab": {
          "base_uri": "https://localhost:8080/"
        },
        "id": "I5unTgqxva-Y",
        "outputId": "a13a8306-d25f-480f-ca75-4f9b724ce56c"
      },
      "source": [
        "print(\"Hello World\")"
      ],
      "execution_count": null,
      "outputs": [
        {
          "output_type": "stream",
          "text": [
            "Hello World\n"
          ],
          "name": "stdout"
        }
      ]
    },
    {
      "cell_type": "code",
      "metadata": {
        "id": "Nk2aJxP9xTim"
      },
      "source": [
        "productCost = 200\n",
        "gstPercent = 18 \n",
        "gstAmount = gstPercent / 100 * productCost \n",
        "finalAmount = productCost + gstAmount "
      ],
      "execution_count": null,
      "outputs": []
    },
    {
      "cell_type": "code",
      "metadata": {
        "colab": {
          "base_uri": "https://localhost:8080/"
        },
        "id": "im4ROCcbyCBS",
        "outputId": "81843de1-864a-4bc9-bbeb-4a008e163009"
      },
      "source": [
        "print(productCost)\n",
        "print(gstAmount)\n",
        "print(\"----------\")\n",
        "print(finalAmount)"
      ],
      "execution_count": null,
      "outputs": [
        {
          "output_type": "stream",
          "text": [
            "200\n",
            "36.0\n",
            "----------\n",
            "236.0\n"
          ],
          "name": "stdout"
        }
      ]
    },
    {
      "cell_type": "markdown",
      "metadata": {
        "id": "EzkJEOeNzCXm"
      },
      "source": [
        "To know the datatype of variables"
      ]
    },
    {
      "cell_type": "code",
      "metadata": {
        "colab": {
          "base_uri": "https://localhost:8080/"
        },
        "id": "gbYxJbzXzHWC",
        "outputId": "7924d890-8807-42a7-98ef-8b8dd763a585"
      },
      "source": [
        "print( type(productCost) )\n",
        "print( type(finalAmount) )"
      ],
      "execution_count": null,
      "outputs": [
        {
          "output_type": "stream",
          "text": [
            "<class 'int'>\n",
            "<class 'float'>\n"
          ],
          "name": "stdout"
        }
      ]
    },
    {
      "cell_type": "code",
      "metadata": {
        "id": "bGFJ9spJyLpb"
      },
      "source": [
        "# int, float, str, bool, "
      ],
      "execution_count": null,
      "outputs": []
    },
    {
      "cell_type": "code",
      "metadata": {
        "colab": {
          "base_uri": "https://localhost:8080/"
        },
        "id": "TR6ZBzdV2AOB",
        "outputId": "16fef1f1-3db6-4adf-a5af-5403cee01110"
      },
      "source": [
        "# int a = 5, b = 10;\n",
        "#a = 5, b = 10\n",
        "a,b = 5, 10\n",
        "print(a, b)"
      ],
      "execution_count": null,
      "outputs": [
        {
          "output_type": "stream",
          "text": [
            "5 10\n"
          ],
          "name": "stdout"
        }
      ]
    },
    {
      "cell_type": "code",
      "metadata": {
        "colab": {
          "base_uri": "https://localhost:8080/"
        },
        "id": "T6leLV4U29YW",
        "outputId": "502d483f-a943-4971-fd6c-1b28a7d19f2d"
      },
      "source": [
        "print(\"Enter the product Cost : \")\n",
        "productCost = input()\n",
        "print(type(productCost))\n",
        "print(productCost)\n",
        "print(productCost * 3) \n",
        "\n",
        "productCost = int(productCost)   #Python is a dynamic typed language  \n",
        "print(productCost)               #conversion function : float, str, bool\n",
        "print(productCost * 3)  \n",
        "print(type(productCost))"
      ],
      "execution_count": null,
      "outputs": [
        {
          "output_type": "stream",
          "text": [
            "Enter the product Cost : \n",
            "5\n",
            "5\n",
            "555\n",
            "<class 'str'>\n",
            "5\n",
            "15\n",
            "<class 'int'>\n"
          ],
          "name": "stdout"
        }
      ]
    },
    {
      "cell_type": "code",
      "metadata": {
        "colab": {
          "base_uri": "https://localhost:8080/"
        },
        "id": "jSt_Hod52BZE",
        "outputId": "938944bb-9d9a-477b-90fb-685355c480d1"
      },
      "source": [
        "5 / 2 "
      ],
      "execution_count": null,
      "outputs": [
        {
          "output_type": "execute_result",
          "data": {
            "text/plain": [
              "2.5"
            ]
          },
          "metadata": {
            "tags": []
          },
          "execution_count": 11
        }
      ]
    },
    {
      "cell_type": "code",
      "metadata": {
        "colab": {
          "base_uri": "https://localhost:8080/"
        },
        "id": "tnfzvXaC248Y",
        "outputId": "9c27ce43-c4c6-4e0d-9272-984c395fbc0a"
      },
      "source": [
        "5 // 2"
      ],
      "execution_count": null,
      "outputs": [
        {
          "output_type": "execute_result",
          "data": {
            "text/plain": [
              "2"
            ]
          },
          "metadata": {
            "tags": []
          },
          "execution_count": 12
        }
      ]
    },
    {
      "cell_type": "code",
      "metadata": {
        "colab": {
          "base_uri": "https://localhost:8080/"
        },
        "id": "oafhOSJ38BNa",
        "outputId": "b502b9a1-4c6c-4bb7-fafa-97c85c8d68ef"
      },
      "source": [
        "int(5 / 2)"
      ],
      "execution_count": null,
      "outputs": [
        {
          "output_type": "execute_result",
          "data": {
            "text/plain": [
              "2"
            ]
          },
          "metadata": {
            "tags": []
          },
          "execution_count": 13
        }
      ]
    },
    {
      "cell_type": "code",
      "metadata": {
        "colab": {
          "base_uri": "https://localhost:8080/"
        },
        "id": "hLPN0VYG26ZX",
        "outputId": "f9b11d93-59b3-47b8-a343-eebe493e2736"
      },
      "source": [
        "5 ** 2.5"
      ],
      "execution_count": null,
      "outputs": [
        {
          "output_type": "execute_result",
          "data": {
            "text/plain": [
              "55.90169943749474"
            ]
          },
          "metadata": {
            "tags": []
          },
          "execution_count": 15
        }
      ]
    },
    {
      "cell_type": "code",
      "metadata": {
        "colab": {
          "base_uri": "https://localhost:8080/"
        },
        "id": "l4il8tk681X0",
        "outputId": "f9a60d5b-1ddd-406c-efc8-348f58eb7cbc"
      },
      "source": [
        "import math\n",
        "math.pi"
      ],
      "execution_count": null,
      "outputs": [
        {
          "output_type": "execute_result",
          "data": {
            "text/plain": [
              "3.141592653589793"
            ]
          },
          "metadata": {
            "tags": []
          },
          "execution_count": 17
        }
      ]
    },
    {
      "cell_type": "code",
      "metadata": {
        "colab": {
          "base_uri": "https://localhost:8080/"
        },
        "id": "VOROgNfA9VvD",
        "outputId": "f09ea341-a07e-4871-d24a-af61147dc259"
      },
      "source": [
        "a = 5\n",
        "b = 10\n",
        "print( a )\n",
        "print( b )  #try this"
      ],
      "execution_count": null,
      "outputs": [
        {
          "output_type": "stream",
          "text": [
            "5\n"
          ],
          "name": "stdout"
        },
        {
          "output_type": "execute_result",
          "data": {
            "text/plain": [
              "10"
            ]
          },
          "metadata": {
            "tags": []
          },
          "execution_count": 21
        }
      ]
    },
    {
      "cell_type": "code",
      "metadata": {
        "colab": {
          "base_uri": "https://localhost:8080/"
        },
        "id": "1h31QObp9o4p",
        "outputId": "9ccf8cb1-5466-46be-94f9-86a8ad855233"
      },
      "source": [
        "a = 10\n",
        "if (a < 10) :\n",
        "  print(\"True\")\n",
        "else:\n",
        "  print(\"False\")  "
      ],
      "execution_count": null,
      "outputs": [
        {
          "output_type": "stream",
          "text": [
            "False\n"
          ],
          "name": "stdout"
        }
      ]
    },
    {
      "cell_type": "code",
      "metadata": {
        "colab": {
          "base_uri": "https://localhost:8080/"
        },
        "id": "eBLeM-HS_RJZ",
        "outputId": "11d09392-610d-4201-d1f8-945187b51dbf"
      },
      "source": [
        "age = 15\n",
        "if age > 45:\n",
        "  print(\"Free Vaccine\")\n",
        "else :\n",
        "  if 18 <= age < 45:\n",
        "    print(\"Paid Vaccine\")\n",
        "  else:\n",
        "    print(\"You are not eligible for vaccination\")"
      ],
      "execution_count": null,
      "outputs": [
        {
          "output_type": "stream",
          "text": [
            "You are not eligible for vaccination\n"
          ],
          "name": "stdout"
        }
      ]
    },
    {
      "cell_type": "code",
      "metadata": {
        "colab": {
          "base_uri": "https://localhost:8080/"
        },
        "id": "NF8YCuPn_R7k",
        "outputId": "0543e8dd-519c-4d56-aa37-f0a1b6a4374a"
      },
      "source": [
        "age = 50\n",
        "if age > 45:\n",
        "  print(\"Free Vaccine\")\n",
        "elif 18 <= age < 45:\n",
        "  print(\"Paid Vaccine\")\n",
        "  print(\"The cost is 750 for covishield and 1400 for covaxin\")\n",
        "else:\n",
        "    print(\"You are not eligible for vaccination\")"
      ],
      "execution_count": null,
      "outputs": [
        {
          "output_type": "stream",
          "text": [
            "Free Vaccine\n"
          ],
          "name": "stdout"
        }
      ]
    },
    {
      "cell_type": "code",
      "metadata": {
        "colab": {
          "base_uri": "https://localhost:8080/"
        },
        "id": "8U1iCBrQC4vF",
        "outputId": "508a5950-7b77-4333-d01d-30ef5283320c"
      },
      "source": [
        "# Bitwise Operators : work on individual bits of a number \n",
        "# &, |, ^, ~, >>, <<\n",
        "\n",
        "a = 5       #0101\n",
        "b = 9       #1001\n",
        "#  a & b     0001\n",
        "#  a | b     1101\n",
        "#  a ^ b     1100\n",
        "print(a, bin(a))  \n",
        "print(b, bin(b))\n",
        "print(f\"{a} & {b} = {a & b}\")\n",
        "print(f\"{a} | {b} = {a | b}\")\n",
        "print(f\"{a} ^ {b} = {a ^ b}\")"
      ],
      "execution_count": null,
      "outputs": [
        {
          "output_type": "stream",
          "text": [
            "5 0b101\n",
            "9 0b1001\n",
            "5 & 9 = 1\n",
            "5 | 9 = 13\n",
            "5 ^ 9 = 12\n"
          ],
          "name": "stdout"
        }
      ]
    },
    {
      "cell_type": "code",
      "metadata": {
        "colab": {
          "base_uri": "https://localhost:8080/"
        },
        "id": "99gQvz1PDqNH",
        "outputId": "2d59efdc-d70f-43e5-8513-fbd49ffecef8"
      },
      "source": [
        "# & is used to verify a bit\n",
        "# LSb\n",
        "num = int(input(\"Enter a number : \"))\n",
        "print( num & 1 )\n",
        "\n",
        "if (num & 1) == 0:\n",
        "  print(\"Even Number\")\n",
        "else:\n",
        "  print(\"Odd Number\")\n",
        "# 0   0000 & 0001 = 0\n",
        "# 1   0001 & 0001 = 1\n",
        "# 2   0010 & 0001 = 0\n",
        "# 3   0011 & 0001 =  \n",
        "# 4   0100 & 0001 =\n",
        "# 5   0101 & 0001 =\n",
        "# 6   0110 & 0001 =\n"
      ],
      "execution_count": null,
      "outputs": [
        {
          "output_type": "stream",
          "text": [
            "Enter a number : 56\n",
            "0\n",
            "Even Number\n"
          ],
          "name": "stdout"
        }
      ]
    },
    {
      "cell_type": "code",
      "metadata": {
        "colab": {
          "base_uri": "https://localhost:8080/"
        },
        "id": "9nyXK47HDqqZ",
        "outputId": "ea7b9663-ff8a-4d03-a65f-bf6c5d3c702e"
      },
      "source": [
        "# & is used to verify a bit\n",
        "# LSb\n",
        "num = int(input(\"Enter a number : \"))\n",
        "print( num & 1 )\n",
        "\n",
        "if (num & 3) == 0:\n",
        "  print(\"Divisible by 4\")\n",
        "else:\n",
        "  print(\"Not Divisible by 4\")\n",
        "# 4   0 0100\n",
        "#     0 0011\n",
        "\n",
        "# 8   0 1000\n",
        "# 12  0 1100\n",
        "# 16  1 0000\n",
        "# 20  1 0100"
      ],
      "execution_count": null,
      "outputs": [
        {
          "output_type": "stream",
          "text": [
            "Enter a number : 44\n",
            "0\n",
            "Divisible by 4\n"
          ],
          "name": "stdout"
        }
      ]
    },
    {
      "cell_type": "code",
      "metadata": {
        "colab": {
          "base_uri": "https://localhost:8080/"
        },
        "id": "N-Wd0kYJDq42",
        "outputId": "1edeebf1-2c17-4b33-ace9-d5e2fd7a87e4"
      },
      "source": [
        "# 7000 -> 0\n",
        "# 8000 -> 800\n",
        "# 10000 -> 1000\n",
        "# 12000 -> 1000\n",
        "# 15000 -> 1000\n",
        "\n",
        "minPurchaseValue = 7500\n",
        "maxDiscountValue = 1000\n",
        "\n",
        "actualPurchaseValue = 12000\n",
        "\n",
        "discountValue = 0\n",
        "if actualPurchaseValue < minPurchaseValue:\n",
        "  discountValue = 0\n",
        "else:\n",
        "  discountValue = 10/100 * actualPurchaseValue\n",
        "  if discountValue > maxDiscountValue:\n",
        "    discountValue = maxDiscountValue\n",
        "\n",
        "finalAmount = actualPurchaseValue - discountValue\n",
        "print(actualPurchaseValue)\n",
        "print(discountValue)\n",
        "print(\"---------------\")\n",
        "print(finalAmount) "
      ],
      "execution_count": null,
      "outputs": [
        {
          "output_type": "stream",
          "text": [
            "12000\n",
            "1000\n",
            "---------------\n",
            "11000\n"
          ],
          "name": "stdout"
        }
      ]
    },
    {
      "cell_type": "code",
      "metadata": {
        "colab": {
          "base_uri": "https://localhost:8080/"
        },
        "id": "lEanGhFDDrVV",
        "outputId": "32b5143c-f3ad-4f90-f0ef-62b004e05e12"
      },
      "source": [
        "# 7000 -> 0\n",
        "# 8000 -> 800\n",
        "# 10000 -> 1000\n",
        "# 12000 -> 1000\n",
        "# 15000 -> 1000\n",
        "\n",
        "minPurchaseValue = 7500\n",
        "maxDiscountValue = 1000\n",
        "\n",
        "actualPurchaseValue = 12000\n",
        "\n",
        "discountValue = 0\n",
        "if actualPurchaseValue < minPurchaseValue:\n",
        "  discountValue = 0\n",
        "else:\n",
        "  discountValue = 10/100 * actualPurchaseValue\n",
        "  discountValue = min(discountValue, maxDiscountValue)\n",
        "\n",
        "finalAmount = actualPurchaseValue - discountValue\n",
        "print(actualPurchaseValue)\n",
        "print(discountValue)\n",
        "print(\"---------------\")\n",
        "print(finalAmount) "
      ],
      "execution_count": null,
      "outputs": [
        {
          "output_type": "stream",
          "text": [
            "12000\n",
            "1000\n",
            "---------------\n",
            "11000\n"
          ],
          "name": "stdout"
        }
      ]
    },
    {
      "cell_type": "code",
      "metadata": {
        "colab": {
          "base_uri": "https://localhost:8080/"
        },
        "id": "1N_GG3ZCRNcZ",
        "outputId": "e0262993-f520-42f3-f9e4-ed3309258c07"
      },
      "source": [
        "print( max(5, 10) )\n",
        "print( min(5, 10) )"
      ],
      "execution_count": null,
      "outputs": [
        {
          "output_type": "stream",
          "text": [
            "10\n",
            "5\n"
          ],
          "name": "stdout"
        }
      ]
    },
    {
      "cell_type": "code",
      "metadata": {
        "id": "inZCsw_8RM8F"
      },
      "source": [
        "# C : while, for, do-while\n",
        "# Python : while, for"
      ],
      "execution_count": null,
      "outputs": []
    },
    {
      "cell_type": "code",
      "metadata": {
        "id": "dE3Jmft4V-eW"
      },
      "source": [
        "# for : When you are accessing the elements of container(ds which holds a collection of elements)\n",
        "# for : when you know the number of times the loop should repeat.\n",
        "# while : when you dont know the number of times the loop should repeat"
      ],
      "execution_count": null,
      "outputs": []
    },
    {
      "cell_type": "code",
      "metadata": {
        "colab": {
          "base_uri": "https://localhost:8080/"
        },
        "id": "NdlZ0hfeoMP0",
        "outputId": "d31c4973-f412-48ac-a49e-01ea0754fa75"
      },
      "source": [
        "i = 0\n",
        "while i < 5:\n",
        "  print(i , end = ' ')\n",
        "  i = i + 1  # i += 1"
      ],
      "execution_count": null,
      "outputs": [
        {
          "output_type": "stream",
          "text": [
            "0 1 2 3 4 "
          ],
          "name": "stdout"
        }
      ]
    },
    {
      "cell_type": "code",
      "metadata": {
        "colab": {
          "base_uri": "https://localhost:8080/"
        },
        "id": "1MGPc2rzpOTa",
        "outputId": "d0165451-2200-429e-b5ad-40f459733091"
      },
      "source": [
        "for var in range(5):\n",
        "  print(var ,end = '-')"
      ],
      "execution_count": null,
      "outputs": [
        {
          "output_type": "stream",
          "text": [
            "0-1-2-3-4-"
          ],
          "name": "stdout"
        }
      ]
    },
    {
      "cell_type": "code",
      "metadata": {
        "colab": {
          "base_uri": "https://localhost:8080/"
        },
        "id": "H4ltRNnmp1QJ",
        "outputId": "16ede8d6-1435-4d15-9c87-388f43da0ad3"
      },
      "source": [
        "#GCD of two numbers (Euclids, Successive subtraction, school method)\n",
        "a = int(input(\"Enter the first number : \"))\n",
        "b = int(input(\"Enter the second number : \"))\n",
        "gcd = 1\n",
        "\n",
        "limit = min(a,b)\n",
        "\n",
        "for i in range(1 , limit + 1):\n",
        "  print(\"i : \" , i)\n",
        "  if (a % i) == 0 and (b % i) == 0:\n",
        "    gcd = i\n",
        "    print(\"gcd : \" , gcd)"
      ],
      "execution_count": null,
      "outputs": [
        {
          "output_type": "stream",
          "text": [
            "Enter the first number : 10\n",
            "Enter the second number : 20\n",
            "i :  1\n",
            "gcd :  1\n",
            "i :  2\n",
            "gcd :  2\n",
            "i :  3\n",
            "i :  4\n",
            "i :  5\n",
            "gcd :  5\n",
            "i :  6\n",
            "i :  7\n",
            "i :  8\n",
            "i :  9\n",
            "i :  10\n",
            "gcd :  10\n"
          ],
          "name": "stdout"
        }
      ]
    },
    {
      "cell_type": "code",
      "metadata": {
        "colab": {
          "base_uri": "https://localhost:8080/"
        },
        "id": "NlL6H4GesdBI",
        "outputId": "42f81018-8806-41f7-85bb-35e4848e47a6"
      },
      "source": [
        "#GCD of two numbers (Euclids, Successive subtraction, school method)\n",
        "a = int(input(\"Enter the first number : \"))\n",
        "b = int(input(\"Enter the second number : \"))\n",
        "gcd = 1\n",
        "\n",
        "while a != b:\n",
        "  if a > b:\n",
        "    a = a - b\n",
        "  else:\n",
        "    b = b - a \n",
        "  print(a,b)\n",
        "print(\"GCD : \" , a)"
      ],
      "execution_count": null,
      "outputs": [
        {
          "output_type": "stream",
          "text": [
            "Enter the first number : 2\n",
            "Enter the second number : 20\n",
            "2 18\n",
            "2 16\n",
            "2 14\n",
            "2 12\n",
            "2 10\n",
            "2 8\n",
            "2 6\n",
            "2 4\n",
            "2 2\n",
            "GCD :  2\n"
          ],
          "name": "stdout"
        }
      ]
    },
    {
      "cell_type": "code",
      "metadata": {
        "colab": {
          "base_uri": "https://localhost:8080/"
        },
        "id": "d2mVo2eRsdW6",
        "outputId": "c22f4a57-1d5c-4922-d721-494660f90be9"
      },
      "source": [
        "#GCD of two numbers (Euclids, Successive subtraction, school method)\n",
        "a = int(input(\"Enter the first number : \"))\n",
        "b = int(input(\"Enter the second number : \"))\n",
        "gcd = 1\n",
        "\n",
        "while b != 0:\n",
        "  rem = a % b\n",
        "  a = b\n",
        "  b = rem\n",
        "  print(a,b)\n",
        "print(\"GCD : \" , a)"
      ],
      "execution_count": null,
      "outputs": [
        {
          "output_type": "stream",
          "text": [
            "Enter the first number : 30\n",
            "Enter the second number : 100\n",
            "100 30\n",
            "30 10\n",
            "10 0\n",
            "GCD :  10\n"
          ],
          "name": "stdout"
        }
      ]
    },
    {
      "cell_type": "code",
      "metadata": {
        "colab": {
          "base_uri": "https://localhost:8080/"
        },
        "id": "RvP5czRDsdrC",
        "outputId": "c6341369-caef-4f25-b054-8a277c24c4fd"
      },
      "source": [
        "#Prime Number\n",
        "#2,3,5,7,11,13,17,19,23,29,31,37\n",
        "n = int(input(\"Enter a numberr : \"))\n",
        "prime = True\n",
        "for i in range(2 , n ):\n",
        "  print(i, n % i)\n",
        "  if n % i == 0:\n",
        "    prime = False\n",
        "    break\n",
        "\n",
        "if prime == True \n",
        "    print(\"Not a Prime Number\")\n",
        "else:\n",
        "    print(\"Prime Number\")"
      ],
      "execution_count": null,
      "outputs": [
        {
          "output_type": "stream",
          "text": [
            "Enter a numberr : 25\n",
            "2 1\n",
            "3 1\n",
            "4 1\n",
            "5 0\n",
            "Not a Prime Number\n"
          ],
          "name": "stdout"
        }
      ]
    },
    {
      "cell_type": "code",
      "metadata": {
        "colab": {
          "base_uri": "https://localhost:8080/"
        },
        "id": "icdBr820yYQD",
        "outputId": "5f90a7ee-ea5b-42c0-ba6e-347842042699"
      },
      "source": [
        "for i in range(5):\n",
        "  print(i)\n",
        "else:\n",
        "  print(\"Done with loop\")"
      ],
      "execution_count": null,
      "outputs": [
        {
          "output_type": "stream",
          "text": [
            "0\n",
            "1\n",
            "2\n",
            "3\n",
            "4\n",
            "Done with loop\n"
          ],
          "name": "stdout"
        }
      ]
    },
    {
      "cell_type": "code",
      "metadata": {
        "colab": {
          "base_uri": "https://localhost:8080/"
        },
        "id": "g8Pgkv1Yyos4",
        "outputId": "9c0a8e69-5ed9-499e-8eaa-482b77bf3af6"
      },
      "source": [
        "for i in range(5):\n",
        "  print(i)\n",
        "print(\"Done with loop\")"
      ],
      "execution_count": null,
      "outputs": [
        {
          "output_type": "stream",
          "text": [
            "0\n",
            "1\n",
            "2\n",
            "3\n",
            "4\n",
            "Done with loop\n"
          ],
          "name": "stdout"
        }
      ]
    },
    {
      "cell_type": "code",
      "metadata": {
        "colab": {
          "base_uri": "https://localhost:8080/"
        },
        "id": "LboZPdSlzSOW",
        "outputId": "d5c05871-8a2b-49f5-b944-e922083700a2"
      },
      "source": [
        "for i in range(5):\n",
        "  print(i)\n",
        "  break\n",
        "else:\n",
        "  print(\"Done with loop\")"
      ],
      "execution_count": null,
      "outputs": [
        {
          "output_type": "stream",
          "text": [
            "0\n",
            "Done with loop\n"
          ],
          "name": "stdout"
        }
      ]
    },
    {
      "cell_type": "code",
      "metadata": {
        "colab": {
          "base_uri": "https://localhost:8080/"
        },
        "id": "kRbyi0Kh0IZd",
        "outputId": "d24ecf79-0e51-42de-eefc-afb768c162c2"
      },
      "source": [
        "n = 10\n",
        "for i in range(2 , n):\n",
        "  print(i)\n",
        "  if n % i == 0:\n",
        "    print(\"Coming out of loop using break\")\n",
        "    break\n",
        "else:\n",
        "  print(\"Done with all iteration of loop\")"
      ],
      "execution_count": null,
      "outputs": [
        {
          "output_type": "stream",
          "text": [
            "2\n",
            "Coming out of loop using break\n"
          ],
          "name": "stdout"
        }
      ]
    },
    {
      "cell_type": "code",
      "metadata": {
        "colab": {
          "base_uri": "https://localhost:8080/"
        },
        "id": "1d8c5YT6vMg9",
        "outputId": "b4980d82-0d82-4117-8767-6e7fd8cbf27f"
      },
      "source": [
        "#Prime Number\n",
        "#2,3,5,7,11,13,17,19,23,29,31,37\n",
        "n = int(input(\"Enter a numberr : \"))\n",
        "for i in range(2 , n ):\n",
        "  print(i, n % i)\n",
        "  if n % i == 0:\n",
        "    print(\"Not a Prime Number\")\n",
        "    break\n",
        "else:\n",
        "    print(\"Prime Number\")"
      ],
      "execution_count": null,
      "outputs": [
        {
          "output_type": "stream",
          "text": [
            "Enter a numberr : 5\n",
            "2 1\n",
            "3 2\n",
            "4 1\n",
            "Prime Number\n"
          ],
          "name": "stdout"
        }
      ]
    },
    {
      "cell_type": "code",
      "metadata": {
        "id": "vtfWPbiV1STU"
      },
      "source": [
        "if True:\n",
        "  pass"
      ],
      "execution_count": null,
      "outputs": []
    },
    {
      "cell_type": "code",
      "metadata": {
        "id": "vHP_VSaN1jYb"
      },
      "source": [
        "#C Array : a collection of elements, \n",
        "#          all elements should be of same datatype.\n",
        "#          its a fixed-size DS (it cannot grow or shrink)\n",
        "#Python List : a colletion of elements\n",
        "#           elements can be of different types\n",
        "#           resizeable data struture"
      ],
      "execution_count": null,
      "outputs": []
    },
    {
      "cell_type": "code",
      "metadata": {
        "colab": {
          "base_uri": "https://localhost:8080/"
        },
        "id": "kpS-1LXY2NC1",
        "outputId": "cc746ef2-df80-43a4-de59-a8d2e5506b7b"
      },
      "source": [
        "a = []\n",
        "print( type(a) )\n",
        "print( len(a) )"
      ],
      "execution_count": null,
      "outputs": [
        {
          "output_type": "stream",
          "text": [
            "<class 'list'>\n",
            "0\n"
          ],
          "name": "stdout"
        }
      ]
    },
    {
      "cell_type": "code",
      "metadata": {
        "colab": {
          "base_uri": "https://localhost:8080/"
        },
        "id": "Pqw302KK2NO6",
        "outputId": "2603aa6c-0715-4a49-c87f-12554f9a5f26"
      },
      "source": [
        "nums = [12,23,34]\n",
        "print( type(nums))\n",
        "print( len(nums))"
      ],
      "execution_count": null,
      "outputs": [
        {
          "output_type": "stream",
          "text": [
            "<class 'list'>\n",
            "3\n"
          ],
          "name": "stdout"
        }
      ]
    },
    {
      "cell_type": "code",
      "metadata": {
        "colab": {
          "base_uri": "https://localhost:8080/"
        },
        "id": "z4YH_Ifv2NSY",
        "outputId": "f5d1f0e6-ab96-4268-87dc-8b896d005be5"
      },
      "source": [
        "names = ['Sikander','Ankit','Kishore','Nanni']\n",
        "print( type(names))\n",
        "print( len(names))"
      ],
      "execution_count": null,
      "outputs": [
        {
          "output_type": "stream",
          "text": [
            "<class 'list'>\n",
            "4\n"
          ],
          "name": "stdout"
        }
      ]
    },
    {
      "cell_type": "code",
      "metadata": {
        "id": "Z2b2qEfr2NdM"
      },
      "source": [
        "mixed = [1,'Sikander',2,'Narender']"
      ],
      "execution_count": null,
      "outputs": []
    },
    {
      "cell_type": "code",
      "metadata": {
        "colab": {
          "base_uri": "https://localhost:8080/"
        },
        "id": "7l6YYvqk2Nhj",
        "outputId": "c3c4493c-a04c-40ba-db5e-0e8b059c30d6"
      },
      "source": [
        "print(a)\n",
        "print(nums)\n",
        "print(names)\n",
        "print(mixed)"
      ],
      "execution_count": null,
      "outputs": [
        {
          "output_type": "stream",
          "text": [
            "[]\n",
            "[12, 23, 34]\n",
            "['Sikander', 'Ankit', 'Kishore', 'Nanni']\n",
            "[1, 'Sikander', 2, 'Narender']\n"
          ],
          "name": "stdout"
        }
      ]
    },
    {
      "cell_type": "code",
      "metadata": {
        "colab": {
          "base_uri": "https://localhost:8080/"
        },
        "id": "_aNBufFQ2Nnw",
        "outputId": "919bf278-ab40-4334-8a0a-da5f642374ab"
      },
      "source": [
        "print( max(nums))\n",
        "print( min(nums))\n",
        "print( sorted(nums))\n",
        "print( sum(nums))"
      ],
      "execution_count": null,
      "outputs": [
        {
          "output_type": "stream",
          "text": [
            "34\n",
            "12\n",
            "[12, 23, 34]\n",
            "69\n"
          ],
          "name": "stdout"
        }
      ]
    },
    {
      "cell_type": "code",
      "metadata": {
        "colab": {
          "base_uri": "https://localhost:8080/"
        },
        "collapsed": true,
        "id": "1uz-kM-544dx",
        "outputId": "04b0f0be-72de-4063-afd3-ca6670a0a8d1"
      },
      "source": [
        "# append(ele) (similar to push_back) : Add a new element at end of list\n",
        "# function : global functions\n",
        "# method : member functions\n",
        "nums.append(20)\n",
        "nums.append(3)\n",
        "nums.append(67)\n",
        "print(nums)     "
      ],
      "execution_count": null,
      "outputs": [
        {
          "output_type": "stream",
          "text": [
            "[12, 23, 34, 20, 3, 67]\n"
          ],
          "name": "stdout"
        }
      ]
    },
    {
      "cell_type": "code",
      "metadata": {
        "colab": {
          "base_uri": "https://localhost:8080/"
        },
        "collapsed": true,
        "id": "YvTlPoJ8-6U_",
        "outputId": "919cbf1d-4c2d-402b-cb5d-54c26655ac2c"
      },
      "source": [
        "# insert(index, ele) \n",
        "nums.insert(0, 43)\n",
        "print(nums)"
      ],
      "execution_count": null,
      "outputs": [
        {
          "output_type": "stream",
          "text": [
            "[43, 12, 23, 34, 20, 3, 67]\n"
          ],
          "name": "stdout"
        }
      ]
    },
    {
      "cell_type": "code",
      "metadata": {
        "colab": {
          "base_uri": "https://localhost:8080/"
        },
        "collapsed": true,
        "id": "A6beyr6o-6X6",
        "outputId": "edf0b111-45a6-432f-baf1-43811ac486a6"
      },
      "source": [
        " nums.insert(3, 78)\n",
        " nums"
      ],
      "execution_count": null,
      "outputs": [
        {
          "output_type": "execute_result",
          "data": {
            "text/plain": [
              "[43, 12, 23, 78, 34, 20, 3, 67]"
            ]
          },
          "metadata": {
            "tags": []
          },
          "execution_count": 102
        }
      ]
    },
    {
      "cell_type": "code",
      "metadata": {
        "colab": {
          "base_uri": "https://localhost:8080/"
        },
        "collapsed": true,
        "id": "DdUMHJ_U-6gN",
        "outputId": "7463ead3-ea06-4756-cc35-c774ddfd750c"
      },
      "source": [
        "#pop(index) delete element based on index\n",
        "#remove(key) delete the  given element\n",
        "nums.pop()"
      ],
      "execution_count": null,
      "outputs": [
        {
          "output_type": "execute_result",
          "data": {
            "text/plain": [
              "67"
            ]
          },
          "metadata": {
            "tags": []
          },
          "execution_count": 103
        }
      ]
    },
    {
      "cell_type": "code",
      "metadata": {
        "colab": {
          "base_uri": "https://localhost:8080/"
        },
        "id": "oLD-RP6R-6sP",
        "outputId": "b30da5cc-e745-41f4-ab24-fe1224fd5687"
      },
      "source": [
        "nums.pop(2)"
      ],
      "execution_count": null,
      "outputs": [
        {
          "output_type": "execute_result",
          "data": {
            "text/plain": [
              "23"
            ]
          },
          "metadata": {
            "tags": []
          },
          "execution_count": 105
        }
      ]
    },
    {
      "cell_type": "code",
      "metadata": {
        "id": "WziYvLBLB8mf"
      },
      "source": [
        "nums.remove(34)"
      ],
      "execution_count": null,
      "outputs": []
    },
    {
      "cell_type": "code",
      "metadata": {
        "colab": {
          "base_uri": "https://localhost:8080/",
          "height": 183
        },
        "collapsed": true,
        "id": "UCHLRGwoCBMt",
        "outputId": "ed6ae6d3-9229-42bf-801e-89ab63042cab"
      },
      "source": [
        "# nums.pop(8)\n",
        "# nums.remove(5)"
      ],
      "execution_count": null,
      "outputs": [
        {
          "output_type": "error",
          "ename": "ValueError",
          "evalue": "ignored",
          "traceback": [
            "\u001b[0;31m---------------------------------------------------------------------------\u001b[0m",
            "\u001b[0;31mValueError\u001b[0m                                Traceback (most recent call last)",
            "\u001b[0;32m<ipython-input-111-4c28e9510c69>\u001b[0m in \u001b[0;36m<module>\u001b[0;34m()\u001b[0m\n\u001b[1;32m      1\u001b[0m \u001b[0;31m# nums.pop(8)\u001b[0m\u001b[0;34m\u001b[0m\u001b[0;34m\u001b[0m\u001b[0;34m\u001b[0m\u001b[0m\n\u001b[0;32m----> 2\u001b[0;31m \u001b[0mnums\u001b[0m\u001b[0;34m.\u001b[0m\u001b[0mremove\u001b[0m\u001b[0;34m(\u001b[0m\u001b[0;36m5\u001b[0m\u001b[0;34m)\u001b[0m\u001b[0;34m\u001b[0m\u001b[0;34m\u001b[0m\u001b[0m\n\u001b[0m",
            "\u001b[0;31mValueError\u001b[0m: list.remove(x): x not in list"
          ]
        }
      ]
    },
    {
      "cell_type": "code",
      "metadata": {
        "colab": {
          "base_uri": "https://localhost:8080/"
        },
        "id": "bOESYMtaCEvn",
        "outputId": "30f1acc1-5fd1-4e0b-e3f5-7fefb3f39ffc"
      },
      "source": [
        "print(nums)\n",
        "print(\"12 :\" , 12 in nums )\n",
        "print(\"15 :\" , 15 in nums )"
      ],
      "execution_count": null,
      "outputs": [
        {
          "output_type": "stream",
          "text": [
            "[43, 12, 78, 20, 3]\n",
            "12 : True\n",
            "15 : False\n"
          ],
          "name": "stdout"
        }
      ]
    },
    {
      "cell_type": "code",
      "metadata": {
        "id": "62KA-I3EDI5m"
      },
      "source": [
        "# while, else, for, elif, break , continue , pass, if \n",
        "# not , in , and , or ,not"
      ],
      "execution_count": null,
      "outputs": []
    },
    {
      "cell_type": "code",
      "metadata": {
        "colab": {
          "base_uri": "https://localhost:8080/"
        },
        "id": "YlWf12QGELVg",
        "outputId": "36ecab41-4ec5-42d4-99cb-54ab7d44eb41"
      },
      "source": [
        "nums.index(20)\n",
        "# nums.index(5)"
      ],
      "execution_count": null,
      "outputs": [
        {
          "output_type": "execute_result",
          "data": {
            "text/plain": [
              "3"
            ]
          },
          "metadata": {
            "tags": []
          },
          "execution_count": 119
        }
      ]
    },
    {
      "cell_type": "code",
      "metadata": {
        "colab": {
          "base_uri": "https://localhost:8080/"
        },
        "id": "_Yn2azBMEO3X",
        "outputId": "893e7a3c-49ea-4dae-f9d7-8a798fe1744f"
      },
      "source": [
        "nums.count(3)\n",
        "nums.count(5)"
      ],
      "execution_count": null,
      "outputs": [
        {
          "output_type": "execute_result",
          "data": {
            "text/plain": [
              "0"
            ]
          },
          "metadata": {
            "tags": []
          },
          "execution_count": 121
        }
      ]
    },
    {
      "cell_type": "code",
      "metadata": {
        "id": "dcqtvtplEkcp"
      },
      "source": [
        "nums.clear()"
      ],
      "execution_count": null,
      "outputs": []
    },
    {
      "cell_type": "code",
      "metadata": {
        "colab": {
          "base_uri": "https://localhost:8080/"
        },
        "id": "tom0xBIIFBpm",
        "outputId": "071fa7ff-2ca2-4f12-f654-12dfcb3b2835"
      },
      "source": [
        "nums"
      ],
      "execution_count": null,
      "outputs": [
        {
          "output_type": "execute_result",
          "data": {
            "text/plain": [
              "[]"
            ]
          },
          "metadata": {
            "tags": []
          },
          "execution_count": 123
        }
      ]
    },
    {
      "cell_type": "code",
      "metadata": {
        "colab": {
          "base_uri": "https://localhost:8080/"
        },
        "id": "leIysH65FDMR",
        "outputId": "c40522d7-2ad2-4f54-9777-d1c230bf87fa"
      },
      "source": [
        "a = [1,2,3]\n",
        "b = [4,5,6]\n",
        "# a.append(b)\n",
        "a.extend(b)\n",
        "print(a)\n",
        "print(len(a))"
      ],
      "execution_count": null,
      "outputs": [
        {
          "output_type": "stream",
          "text": [
            "[1, 2, 3, 4, 5, 6]\n",
            "6\n"
          ],
          "name": "stdout"
        }
      ]
    },
    {
      "cell_type": "code",
      "metadata": {
        "colab": {
          "base_uri": "https://localhost:8080/"
        },
        "id": "KjJqjO8UFIwP",
        "outputId": "cc5cd332-85c6-4de6-a193-73c352e5cdb9"
      },
      "source": [
        "a = [1,2,3]\n",
        "b = [4,5,6]\n",
        "a = a + b\n",
        "print(a)"
      ],
      "execution_count": null,
      "outputs": [
        {
          "output_type": "stream",
          "text": [
            "[1, 2, 3, 4, 5, 6]\n"
          ],
          "name": "stdout"
        }
      ]
    },
    {
      "cell_type": "code",
      "metadata": {
        "colab": {
          "base_uri": "https://localhost:8080/"
        },
        "id": "2837lOepFIz6",
        "outputId": "b01e51e3-7f22-4b1d-e7b2-342f5c1edb46"
      },
      "source": [
        "a = [12, 23 , 34 , 45]\n",
        "# b = a  #Shallow Copy\n",
        "b = a.copy()  #Deep Copy\n",
        "print(a , \"\\n\", b)"
      ],
      "execution_count": null,
      "outputs": [
        {
          "output_type": "stream",
          "text": [
            "[12, 23, 34, 45] \n",
            " [12, 23, 34, 45]\n"
          ],
          "name": "stdout"
        }
      ]
    },
    {
      "cell_type": "code",
      "metadata": {
        "colab": {
          "base_uri": "https://localhost:8080/"
        },
        "id": "FsZsb3WoFI2-",
        "outputId": "cf73d039-c96a-4d2f-9b34-49630a8d4108"
      },
      "source": [
        "a[0] = 78\n",
        "print(a , \"\\n\", b)"
      ],
      "execution_count": null,
      "outputs": [
        {
          "output_type": "stream",
          "text": [
            "[78, 23, 34, 45] \n",
            " [12, 23, 34, 45]\n"
          ],
          "name": "stdout"
        }
      ]
    },
    {
      "cell_type": "code",
      "metadata": {
        "colab": {
          "base_uri": "https://localhost:8080/"
        },
        "id": "UXTH26R0FI53",
        "outputId": "fdbcaaeb-0002-42e7-ff84-84ab68622e1c"
      },
      "source": [
        "#Methods, They modify the object, its only available with mutable data structures\n",
        "a = [12,32,21,56,54,89,76]\n",
        "print( a )\n",
        "# print( a.reverse() )\n",
        "a.reverse()\n",
        "print( a )\n",
        "\n",
        "a.sort(reverse=True)\n",
        "print( a )"
      ],
      "execution_count": null,
      "outputs": [
        {
          "output_type": "stream",
          "text": [
            "[12, 32, 21, 56, 54, 89, 76]\n",
            "[76, 89, 54, 56, 21, 32, 12]\n",
            "[89, 76, 56, 54, 32, 21, 12]\n"
          ],
          "name": "stdout"
        }
      ]
    },
    {
      "cell_type": "code",
      "metadata": {
        "colab": {
          "base_uri": "https://localhost:8080/",
          "height": 166
        },
        "id": "NplenYUiFI8B",
        "outputId": "93a55905-540f-4eb7-d59d-75ab73201fe2"
      },
      "source": [
        "#Functions : It can work with mutable / immutable arguments\n",
        "reversed()\n",
        "sorted()"
      ],
      "execution_count": null,
      "outputs": [
        {
          "output_type": "error",
          "ename": "TypeError",
          "evalue": "ignored",
          "traceback": [
            "\u001b[0;31m---------------------------------------------------------------------------\u001b[0m",
            "\u001b[0;31mTypeError\u001b[0m                                 Traceback (most recent call last)",
            "\u001b[0;32m<ipython-input-132-74eed8008639>\u001b[0m in \u001b[0;36m<module>\u001b[0;34m()\u001b[0m\n\u001b[0;32m----> 1\u001b[0;31m \u001b[0mreversed\u001b[0m\u001b[0;34m(\u001b[0m\u001b[0;34m)\u001b[0m\u001b[0;34m\u001b[0m\u001b[0;34m\u001b[0m\u001b[0m\n\u001b[0m",
            "\u001b[0;31mTypeError\u001b[0m: reversed expected 1 arguments, got 0"
          ]
        }
      ]
    },
    {
      "cell_type": "code",
      "metadata": {
        "colab": {
          "base_uri": "https://localhost:8080/"
        },
        "id": "4FNxLzRQFJGO",
        "outputId": "88c74c83-0959-48c6-e9cb-0e1dc100a83a"
      },
      "source": [
        "names.sort(key = len , reverse=True)\n",
        "names"
      ],
      "execution_count": null,
      "outputs": [
        {
          "output_type": "execute_result",
          "data": {
            "text/plain": [
              "['Sikander', 'Kishore', 'Nanni', 'Ankit']"
            ]
          },
          "metadata": {
            "tags": []
          },
          "execution_count": 142
        }
      ]
    },
    {
      "cell_type": "markdown",
      "metadata": {
        "id": "xDLG9kNh0vwD"
      },
      "source": [
        "# Day-2 10-June-2021"
      ]
    },
    {
      "cell_type": "markdown",
      "metadata": {
        "id": "5ibHWenxMFUf"
      },
      "source": [
        ""
      ]
    },
    {
      "cell_type": "code",
      "metadata": {
        "id": "AopVSyVkKjOX",
        "colab": {
          "base_uri": "https://localhost:8080/"
        },
        "outputId": "1196cd93-064a-4bc7-d289-dba4dafb5c17"
      },
      "source": [
        "import sys\n",
        "x = 5\n",
        "print( sys.getsizeof(x))"
      ],
      "execution_count": null,
      "outputs": [
        {
          "output_type": "stream",
          "text": [
            "28\n"
          ],
          "name": "stdout"
        }
      ]
    },
    {
      "cell_type": "code",
      "metadata": {
        "id": "aDSBHsmOK8VJ",
        "colab": {
          "base_uri": "https://localhost:8080/"
        },
        "outputId": "948859a5-dfcf-49f2-facc-8d79964711d3"
      },
      "source": [
        "x = 56243876732467673783427843\n",
        "print(x)\n",
        "print( sys.getsizeof(x))"
      ],
      "execution_count": null,
      "outputs": [
        {
          "output_type": "stream",
          "text": [
            "56243876732467673783427843\n",
            "36\n"
          ],
          "name": "stdout"
        }
      ]
    },
    {
      "cell_type": "markdown",
      "metadata": {
        "id": "Qv41Hb4K3QwG"
      },
      "source": [
        "## Functions"
      ]
    },
    {
      "cell_type": "code",
      "metadata": {
        "id": "BAOMBxTtK8iG"
      },
      "source": [
        "def square(num):\n",
        "  print(num * num)\n",
        "  #print(a + b)\n",
        "  #print(\"abcd\" + 5)"
      ],
      "execution_count": null,
      "outputs": []
    },
    {
      "cell_type": "code",
      "metadata": {
        "id": "wPhJhn3_K8xd",
        "colab": {
          "base_uri": "https://localhost:8080/"
        },
        "outputId": "45ab73f8-0712-4234-b696-ed8fba75d305"
      },
      "source": [
        "res = square(5)\n",
        "print(res)"
      ],
      "execution_count": null,
      "outputs": [
        {
          "output_type": "stream",
          "text": [
            "25\n",
            "None\n"
          ],
          "name": "stdout"
        }
      ]
    },
    {
      "cell_type": "code",
      "metadata": {
        "id": "H8nBETJq3Gtm"
      },
      "source": [
        "def square(num):\n",
        "  return num * num"
      ],
      "execution_count": null,
      "outputs": []
    },
    {
      "cell_type": "code",
      "metadata": {
        "colab": {
          "base_uri": "https://localhost:8080/"
        },
        "id": "rhQ7zPw75KNh",
        "outputId": "e341fdac-ddd8-4804-9a1c-100cfc801a34"
      },
      "source": [
        "res = square(5)\n",
        "print(res)"
      ],
      "execution_count": null,
      "outputs": [
        {
          "output_type": "stream",
          "text": [
            "25\n"
          ],
          "name": "stdout"
        }
      ]
    },
    {
      "cell_type": "code",
      "metadata": {
        "id": "dJhLiWyx5OYr"
      },
      "source": [
        "def factorial(n):\n",
        "  if n == 0 :\n",
        "    return 1\n",
        "  return n * factorial(n - 1)"
      ],
      "execution_count": null,
      "outputs": []
    },
    {
      "cell_type": "code",
      "metadata": {
        "colab": {
          "base_uri": "https://localhost:8080/"
        },
        "id": "kF1nPBUB5U9G",
        "outputId": "d2069bc0-98f7-4421-bdf7-d846ad587fa9"
      },
      "source": [
        "print( factorial(5) )"
      ],
      "execution_count": null,
      "outputs": [
        {
          "output_type": "stream",
          "text": [
            "120\n"
          ],
          "name": "stdout"
        }
      ]
    },
    {
      "cell_type": "code",
      "metadata": {
        "id": "O5-oZjAq5VXS"
      },
      "source": [
        "n = 5\n",
        "r = 3\n",
        "ncr = factorial(n) / (factorial(n-r) * factorial(r))"
      ],
      "execution_count": null,
      "outputs": []
    },
    {
      "cell_type": "code",
      "metadata": {
        "id": "QCG56ADf5Vla"
      },
      "source": [
        "# Does python support function overloading\n",
        "def add(a,b):\n",
        "  return a + b "
      ],
      "execution_count": null,
      "outputs": []
    },
    {
      "cell_type": "code",
      "metadata": {
        "colab": {
          "base_uri": "https://localhost:8080/"
        },
        "id": "aKCo_bWv9Lti",
        "outputId": "02a7feae-619c-4ce1-baab-c91d9781e560"
      },
      "source": [
        "print( add(1,2) )\n",
        "# print( add(1,2,3) )"
      ],
      "execution_count": null,
      "outputs": [
        {
          "output_type": "stream",
          "text": [
            "3\n"
          ],
          "name": "stdout"
        }
      ]
    },
    {
      "cell_type": "code",
      "metadata": {
        "id": "4uNbTeX29JOQ"
      },
      "source": [
        "def add(a,b,c):\n",
        "  return a + b + c"
      ],
      "execution_count": null,
      "outputs": []
    },
    {
      "cell_type": "code",
      "metadata": {
        "colab": {
          "base_uri": "https://localhost:8080/"
        },
        "id": "5153jnuv5VzG",
        "outputId": "fdc4da0b-356c-4b44-a727-39967d91d5c4"
      },
      "source": [
        "# print( add(1,2) )\n",
        "print( add(1,2,3) )"
      ],
      "execution_count": null,
      "outputs": [
        {
          "output_type": "stream",
          "text": [
            "6\n"
          ],
          "name": "stdout"
        }
      ]
    },
    {
      "cell_type": "markdown",
      "metadata": {
        "id": "pfcdnY9N-KUU"
      },
      "source": [
        "### Default Arguments \n",
        "(Default values for missing parameters)"
      ]
    },
    {
      "cell_type": "code",
      "metadata": {
        "id": "dOn2B9tP94F2"
      },
      "source": [
        "def add(a , b , c = 0):\n",
        "  print(\"a = \" , a)\n",
        "  print(\"b = \" , b)\n",
        "  print(\"c = \" , c)"
      ],
      "execution_count": null,
      "outputs": []
    },
    {
      "cell_type": "code",
      "metadata": {
        "colab": {
          "base_uri": "https://localhost:8080/"
        },
        "id": "bAfrDbi194vQ",
        "outputId": "fccf90c7-65aa-4247-e367-63c284b77359"
      },
      "source": [
        "add(4 , 5 , 8)\n",
        "add(3, 5)"
      ],
      "execution_count": null,
      "outputs": [
        {
          "output_type": "stream",
          "text": [
            "a =  4\n",
            "b =  5\n",
            "c =  8\n",
            "a =  3\n",
            "b =  5\n",
            "c =  0\n"
          ],
          "name": "stdout"
        }
      ]
    },
    {
      "cell_type": "code",
      "metadata": {
        "colab": {
          "base_uri": "https://localhost:8080/"
        },
        "id": "yliVf5PABEcG",
        "outputId": "aa66c390-094b-41c8-b22d-dea3e96336cf"
      },
      "source": [
        "def add(a , b = 0, c = 0):\n",
        "  print(\"a = \" , a)\n",
        "  print(\"b = \" , b)\n",
        "  print(\"c = \" , c)\n",
        "\n",
        "add(5)"
      ],
      "execution_count": null,
      "outputs": [
        {
          "output_type": "stream",
          "text": [
            "a =  5\n",
            "b =  0\n",
            "c =  0\n"
          ],
          "name": "stdout"
        }
      ]
    },
    {
      "cell_type": "code",
      "metadata": {
        "colab": {
          "base_uri": "https://localhost:8080/",
          "height": 131
        },
        "collapsed": true,
        "id": "SAKlVBVQ946N",
        "outputId": "b1d69229-1520-4893-8366-851a104c8d18"
      },
      "source": [
        "def add(a , b = 0, c ):\n",
        "  print(\"a = \" , a)\n",
        "  print(\"b = \" , b)\n",
        "  print(\"c = \" , c)"
      ],
      "execution_count": null,
      "outputs": [
        {
          "output_type": "error",
          "ename": "SyntaxError",
          "evalue": "ignored",
          "traceback": [
            "\u001b[0;36m  File \u001b[0;32m\"<ipython-input-45-41cc0748ffc4>\"\u001b[0;36m, line \u001b[0;32m1\u001b[0m\n\u001b[0;31m    def add(a , b = 0, c ):\u001b[0m\n\u001b[0m           ^\u001b[0m\n\u001b[0;31mSyntaxError\u001b[0m\u001b[0;31m:\u001b[0m non-default argument follows default argument\n"
          ]
        }
      ]
    },
    {
      "cell_type": "markdown",
      "metadata": {
        "id": "RR0u-Lc5BP1e"
      },
      "source": [
        "### variable number of arguments"
      ]
    },
    {
      "cell_type": "code",
      "metadata": {
        "id": "dSG0WVbt5V9y"
      },
      "source": [
        "def add(args):\n",
        "  pass"
      ],
      "execution_count": null,
      "outputs": []
    },
    {
      "cell_type": "code",
      "metadata": {
        "id": "CKl1PHNRBUzT"
      },
      "source": [
        "add(5)\n",
        "add( [1,2,3,4] )\n",
        "# add( 1,2,3,4 )"
      ],
      "execution_count": null,
      "outputs": []
    },
    {
      "cell_type": "code",
      "metadata": {
        "id": "7z5euu5hBVFo"
      },
      "source": [
        "def add(*args):\n",
        "  print(\"Number of arguments : \" , len(args))"
      ],
      "execution_count": null,
      "outputs": []
    },
    {
      "cell_type": "code",
      "metadata": {
        "colab": {
          "base_uri": "https://localhost:8080/"
        },
        "id": "SVupJ1qvBVUx",
        "outputId": "6b5847d7-dc42-4703-9548-94d2caa7b4df"
      },
      "source": [
        "add(5)\n",
        "add( [1,2,3,4] )\n",
        "add( 1,2,3,4 )"
      ],
      "execution_count": null,
      "outputs": [
        {
          "output_type": "stream",
          "text": [
            "Number of arguments :  1\n",
            "Number of arguments :  1\n",
            "Number of arguments :  4\n"
          ],
          "name": "stdout"
        }
      ]
    },
    {
      "cell_type": "code",
      "metadata": {
        "id": "NgUg-Qe-BVhY"
      },
      "source": [
        "def add(*args):\n",
        "  print(\"Number of arguments : \" , len(args))\n",
        "  for arg in args:\n",
        "    print(arg)"
      ],
      "execution_count": null,
      "outputs": []
    },
    {
      "cell_type": "code",
      "metadata": {
        "colab": {
          "base_uri": "https://localhost:8080/"
        },
        "collapsed": true,
        "id": "X2Ob6HoLBWb7",
        "outputId": "4f2afc5d-7217-4113-8902-123768451c43"
      },
      "source": [
        "add(5)\n",
        "add( [1,2,3,4] )\n",
        "add( 1,2,3,4 )"
      ],
      "execution_count": null,
      "outputs": [
        {
          "output_type": "stream",
          "text": [
            "Number of arguments :  1\n",
            "5\n",
            "Number of arguments :  1\n",
            "[1, 2, 3, 4]\n",
            "Number of arguments :  4\n",
            "1\n",
            "2\n",
            "3\n",
            "4\n"
          ],
          "name": "stdout"
        }
      ]
    },
    {
      "cell_type": "code",
      "metadata": {
        "colab": {
          "base_uri": "https://localhost:8080/"
        },
        "id": "un0HYM36DEHe",
        "outputId": "ed4fcb15-f2ea-4230-d71d-144cd9dc6807"
      },
      "source": [
        "names = ['Girish','Vivek','Ankit']\n",
        "\n",
        "for name in enumerate(names,100) :\n",
        "  print(name)"
      ],
      "execution_count": null,
      "outputs": [
        {
          "output_type": "stream",
          "text": [
            "(100, 'Girish')\n",
            "(101, 'Vivek')\n",
            "(102, 'Ankit')\n"
          ],
          "name": "stdout"
        }
      ]
    },
    {
      "cell_type": "code",
      "metadata": {
        "colab": {
          "base_uri": "https://localhost:8080/"
        },
        "id": "K8_4bk2WDEW6",
        "outputId": "482652f3-a1bb-4ecf-e7e7-fef4eb610de1"
      },
      "source": [
        "print( max(1,2,3,4,5) )\n",
        "print( max([1,2,3,4,5]) )"
      ],
      "execution_count": null,
      "outputs": [
        {
          "output_type": "execute_result",
          "data": {
            "text/plain": [
              "5"
            ]
          },
          "metadata": {
            "tags": []
          },
          "execution_count": 64
        }
      ]
    },
    {
      "cell_type": "code",
      "metadata": {
        "colab": {
          "base_uri": "https://localhost:8080/"
        },
        "id": "m0ZdXRE4DEim",
        "outputId": "1b915150-293b-4b0f-964a-dea3f07b7f76"
      },
      "source": [
        "a = [1,2,3]\n",
        "b = [4,5,6]\n",
        "total = sum(a)\n",
        "print(total)\n",
        "total = sum(b, total) \n",
        "print(total)"
      ],
      "execution_count": null,
      "outputs": [
        {
          "output_type": "stream",
          "text": [
            "6\n",
            "21\n"
          ],
          "name": "stdout"
        }
      ]
    },
    {
      "cell_type": "code",
      "metadata": {
        "id": "Obb3lVN9EWSE"
      },
      "source": [
        "def mysum(arr , start = 0):\n",
        "  total = start \n",
        "  for ele in arr:\n",
        "    total = total + ele \n",
        "  return total"
      ],
      "execution_count": null,
      "outputs": []
    },
    {
      "cell_type": "code",
      "metadata": {
        "colab": {
          "base_uri": "https://localhost:8080/"
        },
        "id": "E96UO_-kEXBs",
        "outputId": "6e9a7fb4-0f73-4b02-915b-7ccd298eb807"
      },
      "source": [
        "mysum([1,2,3])"
      ],
      "execution_count": null,
      "outputs": [
        {
          "output_type": "execute_result",
          "data": {
            "text/plain": [
              "6"
            ]
          },
          "metadata": {
            "tags": []
          },
          "execution_count": 71
        }
      ]
    },
    {
      "cell_type": "code",
      "metadata": {
        "colab": {
          "base_uri": "https://localhost:8080/"
        },
        "id": "7CmzBxLJFfyy",
        "outputId": "ff65ee19-384a-4b01-cefd-7564a6831ee8"
      },
      "source": [
        "mysum([1,2,3] , 8)"
      ],
      "execution_count": null,
      "outputs": [
        {
          "output_type": "execute_result",
          "data": {
            "text/plain": [
              "14"
            ]
          },
          "metadata": {
            "tags": []
          },
          "execution_count": 72
        }
      ]
    },
    {
      "cell_type": "code",
      "metadata": {
        "id": "A3C2M42sFlo6"
      },
      "source": [
        "def mysum(arr , start = 0):\n",
        "  if type(arr) != list:\n",
        "    print(\"Invalid type\")\n",
        "    return 0\n",
        "  total = start \n",
        "  for ele in arr:\n",
        "    total = total + ele \n",
        "  return total"
      ],
      "execution_count": null,
      "outputs": []
    },
    {
      "cell_type": "code",
      "metadata": {
        "colab": {
          "base_uri": "https://localhost:8080/"
        },
        "id": "fl-E6NDfFpJO",
        "outputId": "3faeacca-440d-4778-c6d6-613ed6ee7ea5"
      },
      "source": [
        "mysum([1,2])\n",
        "mysum(1,2)"
      ],
      "execution_count": null,
      "outputs": [
        {
          "output_type": "stream",
          "text": [
            "Invalid type\n"
          ],
          "name": "stdout"
        },
        {
          "output_type": "execute_result",
          "data": {
            "text/plain": [
              "0"
            ]
          },
          "metadata": {
            "tags": []
          },
          "execution_count": 77
        }
      ]
    },
    {
      "cell_type": "code",
      "metadata": {
        "id": "GcRCocqfFpww"
      },
      "source": [
        "def myrange(*args):\n",
        "  if len(args) == 1:\n",
        "    start = 0\n",
        "    end = args[0]\n",
        "    step = 1 \n",
        "  elif len(args) == 2:\n",
        "    start = args[0]\n",
        "    end = args[1]\n",
        "    step = 1\n",
        "  else:\n",
        "    start = args[0]\n",
        "    end = args[1]\n",
        "    step = args[2]\n",
        "  print(start, end, step)"
      ],
      "execution_count": null,
      "outputs": []
    },
    {
      "cell_type": "code",
      "metadata": {
        "colab": {
          "base_uri": "https://localhost:8080/"
        },
        "id": "sajGtlYOGyAH",
        "outputId": "1fef59c1-e7ee-400e-db2b-d032d7436642"
      },
      "source": [
        "myrange(5)\n",
        "myrange(5, 10)\n",
        "myrange(1,2,3)"
      ],
      "execution_count": null,
      "outputs": [
        {
          "output_type": "stream",
          "text": [
            "0 5 1\n",
            "5 10 1\n",
            "1 2 3\n"
          ],
          "name": "stdout"
        }
      ]
    },
    {
      "cell_type": "code",
      "metadata": {
        "id": "aOfb9CpnG2yI"
      },
      "source": [
        "def add(a = 0, b = 0, c = 0 ):\n",
        "  print(\"a = \" , a)\n",
        "  print(\"b = \" , b)\n",
        "  print(\"c = \" , c)"
      ],
      "execution_count": null,
      "outputs": []
    },
    {
      "cell_type": "code",
      "metadata": {
        "colab": {
          "base_uri": "https://localhost:8080/"
        },
        "collapsed": true,
        "id": "LOznfpMqIgWj",
        "outputId": "86d6982a-1b0e-48b3-f490-26dc13736007"
      },
      "source": [
        "add(1,2,3)  #positional argument\n",
        "add(c = 5, a = 3, b = 8) #keyword argument"
      ],
      "execution_count": null,
      "outputs": [
        {
          "output_type": "stream",
          "text": [
            "a =  1\n",
            "b =  2\n",
            "c =  3\n",
            "a =  3\n",
            "b =  8\n",
            "c =  5\n"
          ],
          "name": "stdout"
        }
      ]
    },
    {
      "cell_type": "code",
      "metadata": {
        "colab": {
          "base_uri": "https://localhost:8080/"
        },
        "id": "RBoi6LpZIg4b",
        "outputId": "9e649c37-8d40-42dd-c6dc-3aebca43c4d6"
      },
      "source": [
        "add(c = 5)"
      ],
      "execution_count": null,
      "outputs": [
        {
          "output_type": "stream",
          "text": [
            "a =  0\n",
            "b =  0\n",
            "c =  5\n"
          ],
          "name": "stdout"
        }
      ]
    },
    {
      "cell_type": "code",
      "metadata": {
        "colab": {
          "base_uri": "https://localhost:8080/"
        },
        "id": "TtK0uBLEIhJK",
        "outputId": "448b7b9b-32a9-462a-cedb-8c40735ba5b2"
      },
      "source": [
        "range(10)"
      ],
      "execution_count": null,
      "outputs": [
        {
          "output_type": "execute_result",
          "data": {
            "text/plain": [
              "range(0, 10)"
            ]
          },
          "metadata": {
            "tags": []
          },
          "execution_count": 93
        }
      ]
    },
    {
      "cell_type": "code",
      "metadata": {
        "colab": {
          "base_uri": "https://localhost:8080/"
        },
        "id": "_I45Xqw7IhYy",
        "outputId": "f10e79e1-9d88-465c-b8a8-183e33fd8031"
      },
      "source": [
        "a = [12, 23 , 34]\n",
        "reversed(a)"
      ],
      "execution_count": null,
      "outputs": [
        {
          "output_type": "execute_result",
          "data": {
            "text/plain": [
              "<list_reverseiterator at 0x7f5b032cd610>"
            ]
          },
          "metadata": {
            "tags": []
          },
          "execution_count": 94
        }
      ]
    },
    {
      "cell_type": "code",
      "metadata": {
        "colab": {
          "base_uri": "https://localhost:8080/"
        },
        "id": "3VEYlAChKaK3",
        "outputId": "c56a9f2d-d87e-4671-9a15-9a300bb5748a"
      },
      "source": [
        "for i in range(5):\n",
        "  print(i)"
      ],
      "execution_count": null,
      "outputs": [
        {
          "output_type": "stream",
          "text": [
            "0\n",
            "1\n",
            "2\n",
            "3\n",
            "4\n"
          ],
          "name": "stdout"
        }
      ]
    },
    {
      "cell_type": "code",
      "metadata": {
        "colab": {
          "base_uri": "https://localhost:8080/"
        },
        "id": "c8KCtmvNKf1J",
        "outputId": "10c70f85-cfb9-4347-8d61-3e5a06a7fdd1"
      },
      "source": [
        "for ele in reversed(a):\n",
        "  print(ele, end = ' ')"
      ],
      "execution_count": null,
      "outputs": [
        {
          "output_type": "stream",
          "text": [
            "34 23 12 "
          ],
          "name": "stdout"
        }
      ]
    },
    {
      "cell_type": "code",
      "metadata": {
        "id": "jz51NZUaKhYh"
      },
      "source": [
        "def myrange(start, stop):\n",
        "  i = start\n",
        "  while i < stop:\n",
        "    print(\"-----------\")\n",
        "    yield i\n",
        "    i = i + 1"
      ],
      "execution_count": null,
      "outputs": []
    },
    {
      "cell_type": "code",
      "metadata": {
        "colab": {
          "base_uri": "https://localhost:8080/"
        },
        "id": "8rYt_nOQK2Y6",
        "outputId": "25aa52ed-12e6-46d3-933a-789d6c98cd6f"
      },
      "source": [
        "# myrange(0 , 5)\n",
        "import time\n",
        "for ele in myrange(3, 8):\n",
        "  print(ele )\n",
        "  print(\"*********\")\n",
        "  time.sleep(4)"
      ],
      "execution_count": null,
      "outputs": [
        {
          "output_type": "stream",
          "text": [
            "-----------\n",
            "3\n",
            "*********\n",
            "-----------\n",
            "4\n",
            "*********\n",
            "-----------\n",
            "5\n",
            "*********\n",
            "-----------\n",
            "6\n",
            "*********\n",
            "-----------\n",
            "7\n",
            "*********\n"
          ],
          "name": "stdout"
        }
      ]
    },
    {
      "cell_type": "code",
      "metadata": {
        "id": "E389MQJEK2qt"
      },
      "source": [
        "# range(5)  #[0,1,2,3,4] "
      ],
      "execution_count": null,
      "outputs": []
    },
    {
      "cell_type": "code",
      "metadata": {
        "colab": {
          "base_uri": "https://localhost:8080/"
        },
        "id": "4JfF5A21K235",
        "outputId": "c91891a9-cba7-4fa3-f998-f2b2c169fa11"
      },
      "source": [
        "names.append('vivek')\n",
        "names.append('ramesh')\n",
        "names"
      ],
      "execution_count": null,
      "outputs": [
        {
          "output_type": "execute_result",
          "data": {
            "text/plain": [
              "['Girish', 'Vivek', 'Ankit', 'vivek', 'ramesh']"
            ]
          },
          "metadata": {
            "tags": []
          },
          "execution_count": 105
        }
      ]
    },
    {
      "cell_type": "code",
      "metadata": {
        "colab": {
          "base_uri": "https://localhost:8080/"
        },
        "id": "QSG2kaw9K3FD",
        "outputId": "766332ee-22ec-4827-a0c1-c0344b76bf55"
      },
      "source": [
        "marks = [12,23,34,43,32]\n",
        "print(names)\n",
        "print(marks)"
      ],
      "execution_count": null,
      "outputs": [
        {
          "output_type": "stream",
          "text": [
            "['Girish', 'Vivek', 'Ankit', 'vivek', 'ramesh']\n",
            "[12, 23, 34, 43, 32]\n"
          ],
          "name": "stdout"
        }
      ]
    },
    {
      "cell_type": "code",
      "metadata": {
        "colab": {
          "base_uri": "https://localhost:8080/"
        },
        "id": "NU87433cK3Rt",
        "outputId": "3b5769c7-3303-47e2-d1bc-1a68a84326ce"
      },
      "source": [
        "for index, details in enumerate(zip(names, marks)):\n",
        "  name, mark = details  #unpacking\n",
        "  print(index, name, mark)"
      ],
      "execution_count": null,
      "outputs": [
        {
          "output_type": "stream",
          "text": [
            "0 Girish 12\n",
            "1 Vivek 23\n",
            "2 Ankit 34\n",
            "3 vivek 43\n",
            "4 ramesh 32\n"
          ],
          "name": "stdout"
        }
      ]
    },
    {
      "cell_type": "code",
      "metadata": {
        "colab": {
          "base_uri": "https://localhost:8080/"
        },
        "id": "MfoN0HzjVts3",
        "outputId": "5f12f6b5-cd8d-47a3-8e17-1a4a2226ed5b"
      },
      "source": [
        "a = [1,2,3]\n",
        "#b = a #[1,2,3]\n",
        "b = a.copy()\n",
        "print(\"id(a) : \" , id(a))\n",
        "print(\"id(b) : \" , id(b))"
      ],
      "execution_count": null,
      "outputs": [
        {
          "output_type": "stream",
          "text": [
            "id(a) :  140028871298976\n",
            "id(b) :  140028939394416\n"
          ],
          "name": "stdout"
        }
      ]
    },
    {
      "cell_type": "code",
      "metadata": {
        "colab": {
          "base_uri": "https://localhost:8080/"
        },
        "id": "hoNrXTE2WICl",
        "outputId": "cb61cdf0-0dad-43b8-85eb-6e4d5005ea62"
      },
      "source": [
        "if id(a) == id(b):\n",
        "  print(\"Referring to same block\")\n",
        "else:\n",
        "  print(\"Referring to different block\")"
      ],
      "execution_count": null,
      "outputs": [
        {
          "output_type": "stream",
          "text": [
            "Referring to different block\n"
          ],
          "name": "stdout"
        }
      ]
    },
    {
      "cell_type": "code",
      "metadata": {
        "colab": {
          "base_uri": "https://localhost:8080/"
        },
        "id": "izmx3yoQWUEA",
        "outputId": "09ff30b2-6619-4d22-fa94-e8a77808c3bc"
      },
      "source": [
        "a is b"
      ],
      "execution_count": null,
      "outputs": [
        {
          "output_type": "execute_result",
          "data": {
            "text/plain": [
              "False"
            ]
          },
          "metadata": {
            "tags": []
          },
          "execution_count": 130
        }
      ]
    },
    {
      "cell_type": "code",
      "metadata": {
        "id": "1428DNtLK3gN"
      },
      "source": [
        "#Function Pointer (Funtion Object)\n",
        "#callback function \n",
        "\n",
        "def factorial(n):\n",
        "  res = 1\n",
        "  for i in range(1, n + 1):\n",
        "    res = res * i\n",
        "  return res"
      ],
      "execution_count": null,
      "outputs": []
    },
    {
      "cell_type": "code",
      "metadata": {
        "colab": {
          "base_uri": "https://localhost:8080/"
        },
        "id": "Hj7Svc-DTKJg",
        "outputId": "f98d4d5f-fdef-45fa-f407-93b4bcc54540"
      },
      "source": [
        "print( factorial )\n",
        "print( hex(id(factorial)))"
      ],
      "execution_count": null,
      "outputs": [
        {
          "output_type": "stream",
          "text": [
            "<function factorial at 0x7f5b032609e0>\n",
            "0x7f5b032609e0\n"
          ],
          "name": "stdout"
        }
      ]
    },
    {
      "cell_type": "code",
      "metadata": {
        "id": "89fvikXwTKrv"
      },
      "source": [
        "funptr = factorial"
      ],
      "execution_count": null,
      "outputs": []
    },
    {
      "cell_type": "code",
      "metadata": {
        "colab": {
          "base_uri": "https://localhost:8080/"
        },
        "id": "owpGZzKcTK_5",
        "outputId": "fdeabc8e-b3ef-4efb-8488-81891f6e56ba"
      },
      "source": [
        "funptr(3)"
      ],
      "execution_count": null,
      "outputs": [
        {
          "output_type": "execute_result",
          "data": {
            "text/plain": [
              "6"
            ]
          },
          "metadata": {
            "tags": []
          },
          "execution_count": 133
        }
      ]
    },
    {
      "cell_type": "code",
      "metadata": {
        "id": "Gk8TQA-uXQaJ"
      },
      "source": [
        "def add(a, b):\n",
        "  print(\"Add\")\n",
        "  return a + b\n",
        "\n",
        "def sub(a, b):\n",
        "  print(\"Sub\")\n",
        "  return a - b\n",
        "\n",
        "def mul(a, b):\n",
        "  print(\"Multiply\")\n",
        "  return a * b\n",
        "\n",
        "def div(a, b):\n",
        "  print(\"Divide\")\n",
        "  return a / b      "
      ],
      "execution_count": null,
      "outputs": []
    },
    {
      "cell_type": "code",
      "metadata": {
        "colab": {
          "base_uri": "https://localhost:8080/"
        },
        "id": "vBAnZx-dYesf",
        "outputId": "6462b1a1-ca06-4860-a12c-fa4317649433"
      },
      "source": [
        "a = int( input(\"Enter the first number : \"))\n",
        "b = int( input(\"Enter the second number : \"))\n",
        "\n",
        "funptr = [add, sub, mul , div]\n",
        "print(\"Enter  the operation to perform 0. add 1. sub 2. mul 3. div\")\n",
        "ch = int(input())\n",
        "\n",
        "funptr[ch](a,b)"
      ],
      "execution_count": null,
      "outputs": [
        {
          "output_type": "stream",
          "text": [
            "Enter the first number : 4\n",
            "Enter the second number : 8\n",
            "Enter  the operation to perform 0. add 1. sub 2. mul 3. div\n",
            "2\n",
            "Multiply\n"
          ],
          "name": "stdout"
        },
        {
          "output_type": "execute_result",
          "data": {
            "text/plain": [
              "32"
            ]
          },
          "metadata": {
            "tags": []
          },
          "execution_count": 135
        }
      ]
    },
    {
      "cell_type": "code",
      "metadata": {
        "colab": {
          "base_uri": "https://localhost:8080/"
        },
        "id": "QxtcT_RdY_NX",
        "outputId": "50c1e167-ab99-46b0-dfb9-07ce9d2a5eac"
      },
      "source": [
        "sorted([12,21,23,3,6,4,8]) "
      ],
      "execution_count": null,
      "outputs": [
        {
          "output_type": "execute_result",
          "data": {
            "text/plain": [
              "[3, 4, 6, 8, 12, 21, 23]"
            ]
          },
          "metadata": {
            "tags": []
          },
          "execution_count": 136
        }
      ]
    },
    {
      "cell_type": "code",
      "metadata": {
        "colab": {
          "base_uri": "https://localhost:8080/"
        },
        "id": "vszvDywSarle",
        "outputId": "11d277de-cb53-4367-a50a-d6fd7db5ef06"
      },
      "source": [
        "sorted(['qewr','asf','zv','uio','hjk'] , key = len )"
      ],
      "execution_count": null,
      "outputs": [
        {
          "output_type": "execute_result",
          "data": {
            "text/plain": [
              "['zv', 'asf', 'uio', 'hjk', 'qewr']"
            ]
          },
          "metadata": {
            "tags": []
          },
          "execution_count": 138
        }
      ]
    },
    {
      "cell_type": "code",
      "metadata": {
        "id": "vxKmfOYnarwG"
      },
      "source": [
        "def square(n):\n",
        "  print(\"square\" , n)\n",
        "  return n * n"
      ],
      "execution_count": null,
      "outputs": []
    },
    {
      "cell_type": "code",
      "metadata": {
        "colab": {
          "base_uri": "https://localhost:8080/"
        },
        "id": "UtupDpzfar0Z",
        "outputId": "20d8d0ff-ea7e-4749-90e0-fd8875cd2806"
      },
      "source": [
        "for ele in map(square , [1,2,3,4,5]):\n",
        "  print(ele)\n",
        "  print(\"-------------\")"
      ],
      "execution_count": null,
      "outputs": [
        {
          "output_type": "stream",
          "text": [
            "square 1\n",
            "1\n",
            "-------------\n",
            "square 2\n",
            "4\n",
            "-------------\n",
            "square 3\n",
            "9\n",
            "-------------\n",
            "square 4\n",
            "16\n",
            "-------------\n",
            "square 5\n",
            "25\n",
            "-------------\n"
          ],
          "name": "stdout"
        }
      ]
    },
    {
      "cell_type": "code",
      "metadata": {
        "id": "cQzrT63nar4s"
      },
      "source": [
        "# map -> function in python -> for_each\n",
        "# map -> Data Struture in C++  -> dict "
      ],
      "execution_count": null,
      "outputs": []
    },
    {
      "cell_type": "code",
      "metadata": {
        "id": "kFqUgEp-ar8j"
      },
      "source": [
        "def square(n):\n",
        "  return n * n\n",
        "\n",
        "a = lambda n : n * n\n",
        "b = square "
      ],
      "execution_count": null,
      "outputs": []
    },
    {
      "cell_type": "code",
      "metadata": {
        "colab": {
          "base_uri": "https://localhost:8080/"
        },
        "id": "SpvJ9unXasAI",
        "outputId": "28e310be-f0ef-4ca7-eb4a-27b132b6cb7b"
      },
      "source": [
        "a(5)"
      ],
      "execution_count": null,
      "outputs": [
        {
          "output_type": "execute_result",
          "data": {
            "text/plain": [
              "25"
            ]
          },
          "metadata": {
            "tags": []
          },
          "execution_count": 145
        }
      ]
    },
    {
      "cell_type": "code",
      "metadata": {
        "colab": {
          "base_uri": "https://localhost:8080/"
        },
        "id": "M0Am70dOcfNr",
        "outputId": "4ee77dc0-328c-4765-920f-cb4276697fd5"
      },
      "source": [
        "b(4)"
      ],
      "execution_count": null,
      "outputs": [
        {
          "output_type": "execute_result",
          "data": {
            "text/plain": [
              "16"
            ]
          },
          "metadata": {
            "tags": []
          },
          "execution_count": 146
        }
      ]
    },
    {
      "cell_type": "code",
      "metadata": {
        "colab": {
          "base_uri": "https://localhost:8080/"
        },
        "id": "JoXa1yuqcfg5",
        "outputId": "9033efb5-d634-4a54-e23a-b48aa1436888"
      },
      "source": [
        "list( map(lambda x : x ** 2 , [1,2,3,4]) )"
      ],
      "execution_count": null,
      "outputs": [
        {
          "output_type": "execute_result",
          "data": {
            "text/plain": [
              "[1, 4, 9, 16]"
            ]
          },
          "metadata": {
            "tags": []
          },
          "execution_count": 147
        }
      ]
    },
    {
      "cell_type": "code",
      "metadata": {
        "id": "G7RPdwFcd6LD"
      },
      "source": [
        "import random"
      ],
      "execution_count": null,
      "outputs": []
    },
    {
      "cell_type": "code",
      "metadata": {
        "colab": {
          "base_uri": "https://localhost:8080/"
        },
        "id": "adtgQgBFekvf",
        "outputId": "5508364b-8428-4122-a845-8a35f4dee04a"
      },
      "source": [
        "random.random()"
      ],
      "execution_count": null,
      "outputs": [
        {
          "output_type": "execute_result",
          "data": {
            "text/plain": [
              "0.476546534586614"
            ]
          },
          "metadata": {
            "tags": []
          },
          "execution_count": 150
        }
      ]
    },
    {
      "cell_type": "code",
      "metadata": {
        "colab": {
          "base_uri": "https://localhost:8080/"
        },
        "id": "V2pKUquzekzp",
        "outputId": "b346544f-14e7-4da1-9ca0-23f3b68b8f01"
      },
      "source": [
        "random.randint(20 , 50)"
      ],
      "execution_count": null,
      "outputs": [
        {
          "output_type": "execute_result",
          "data": {
            "text/plain": [
              "37"
            ]
          },
          "metadata": {
            "tags": []
          },
          "execution_count": 153
        }
      ]
    },
    {
      "cell_type": "code",
      "metadata": {
        "id": "14NEaTGzek3L"
      },
      "source": [
        "def generateRandoms(n , start, stop):\n",
        "  nums = []\n",
        "  for i in range(n):\n",
        "    ele = random.randint(start, stop)\n",
        "    nums.append(ele)\n",
        "  return nums"
      ],
      "execution_count": null,
      "outputs": []
    },
    {
      "cell_type": "code",
      "metadata": {
        "colab": {
          "base_uri": "https://localhost:8080/"
        },
        "id": "wVHFmwxcek7V",
        "outputId": "bf8abd2b-08ce-40bf-a4ec-100d1561925b"
      },
      "source": [
        "nums = generateRandoms(10 , 20, 50)\n",
        "nums"
      ],
      "execution_count": null,
      "outputs": [
        {
          "output_type": "execute_result",
          "data": {
            "text/plain": [
              "[38, 47, 44, 32, 25, 47, 30, 20, 36, 45]"
            ]
          },
          "metadata": {
            "tags": []
          },
          "execution_count": 162
        }
      ]
    },
    {
      "cell_type": "code",
      "metadata": {
        "colab": {
          "base_uri": "https://localhost:8080/"
        },
        "id": "nfQV7zurgPHn",
        "outputId": "83cf63d8-3770-4132-b395-2ee850a9ec25"
      },
      "source": [
        "selected = []\n",
        "for ele in nums:\n",
        "  if ele >= 30:\n",
        "    selected.append(ele)\n",
        "print(selected)"
      ],
      "execution_count": null,
      "outputs": [
        {
          "output_type": "stream",
          "text": [
            "[38, 47, 44, 32, 47, 30, 36, 45]\n"
          ],
          "name": "stdout"
        }
      ]
    },
    {
      "cell_type": "code",
      "metadata": {
        "colab": {
          "base_uri": "https://localhost:8080/"
        },
        "id": "ia2omd7kgQja",
        "outputId": "c32b471d-80b7-4f96-eed7-09d9fb458096"
      },
      "source": [
        "list( filter(lambda x : x < 30 , nums) )"
      ],
      "execution_count": null,
      "outputs": [
        {
          "output_type": "execute_result",
          "data": {
            "text/plain": [
              "[25, 20]"
            ]
          },
          "metadata": {
            "tags": []
          },
          "execution_count": 166
        }
      ]
    },
    {
      "cell_type": "code",
      "metadata": {
        "id": "7zWQXUe2gQ0y"
      },
      "source": [
        "# In this session we will learn about \n",
        "# 1. one line if else statement\n",
        "# 2. List comprehension\n",
        "# 3. List comprehension with conditionals\n",
        "# 4. tuple\n",
        "# 5. string \n",
        "# #if time permits\n",
        "# 6. set"
      ],
      "execution_count": null,
      "outputs": []
    },
    {
      "cell_type": "code",
      "metadata": {
        "colab": {
          "base_uri": "https://localhost:8080/"
        },
        "id": "wd0VDYGygRKN",
        "outputId": "3d30f90d-5bb3-44c1-9ab7-20e5b33f02f4"
      },
      "source": [
        "#? :  \n",
        "# True-Statement if condition else False-statement\n",
        "a = 30\n",
        "b = 20\n",
        "large = a if a > b else b\n",
        "print(large)"
      ],
      "execution_count": null,
      "outputs": [
        {
          "output_type": "stream",
          "text": [
            "30\n"
          ],
          "name": "stdout"
        }
      ]
    },
    {
      "cell_type": "code",
      "metadata": {
        "colab": {
          "base_uri": "https://localhost:8080/"
        },
        "id": "_wheYx44gRfs",
        "outputId": "d5ea0868-c7b1-47a3-c003-beed36010ecc"
      },
      "source": [
        "a = 12\n",
        "b = 3\n",
        "c = 9\n",
        "\n",
        "large = a if (a > b and a > c) else (b if b > c else c)\n",
        "large"
      ],
      "execution_count": null,
      "outputs": [
        {
          "output_type": "execute_result",
          "data": {
            "text/plain": [
              "12"
            ]
          },
          "metadata": {
            "tags": []
          },
          "execution_count": 173
        }
      ]
    },
    {
      "cell_type": "code",
      "metadata": {
        "colab": {
          "base_uri": "https://localhost:8080/"
        },
        "id": "HdoYUp6pw5iY",
        "outputId": "cd110e6f-0d2e-4ec2-853b-9d1d583d24ea"
      },
      "source": [
        "a=[1,2,3]; \n",
        "c=a.copy(); \n",
        "b=[4,5,6]; \n",
        "a=b; \n",
        "print(b); \n",
        "f=a.copy(); \n",
        "a[0]=42; \n",
        "print(\"b is:\", b); \n",
        "print(\"a is:\", a); \n",
        "print(\"c is:\", c); \n",
        "print(\"f is:\", f)"
      ],
      "execution_count": null,
      "outputs": [
        {
          "output_type": "stream",
          "text": [
            "[4, 5, 6]\n",
            "b is: [42, 5, 6]\n",
            "a is: [42, 5, 6]\n",
            "c is: [1, 2, 3]\n",
            "f is: [4, 5, 6]\n"
          ],
          "name": "stdout"
        }
      ]
    },
    {
      "cell_type": "code",
      "metadata": {
        "colab": {
          "base_uri": "https://localhost:8080/"
        },
        "id": "F5o0xTGzw5u7",
        "outputId": "5762f573-c326-4200-f5ae-64167f97e002"
      },
      "source": [
        "nums \n",
        "double = []\n",
        "for num in nums :\n",
        "  double.append( num * 2 )\n",
        "print(nums)\n",
        "print(double)"
      ],
      "execution_count": null,
      "outputs": [
        {
          "output_type": "stream",
          "text": [
            "[38, 47, 44, 32, 25, 47, 30, 20, 36, 45]\n",
            "[76, 94, 88, 64, 50, 94, 60, 40, 72, 90]\n"
          ],
          "name": "stdout"
        }
      ]
    },
    {
      "cell_type": "code",
      "metadata": {
        "colab": {
          "base_uri": "https://localhost:8080/"
        },
        "id": "JXoPxZfKw58j",
        "outputId": "1df22fc4-75c7-4dd1-9a20-8489701915a7"
      },
      "source": [
        "multiple2 = [num * 3  for num in nums]  # list comprehension\n",
        "print(multiple2)"
      ],
      "execution_count": null,
      "outputs": [
        {
          "output_type": "stream",
          "text": [
            "[114, 141, 132, 96, 75, 141, 90, 60, 108, 135]\n"
          ],
          "name": "stdout"
        }
      ]
    },
    {
      "cell_type": "code",
      "metadata": {
        "colab": {
          "base_uri": "https://localhost:8080/"
        },
        "id": "f2o7Ak_X1mTC",
        "outputId": "83cf63d8-3770-4132-b395-2ee850a9ec25"
      },
      "source": [
        "selected = []\n",
        "for ele in nums:\n",
        "  if ele >= 30:\n",
        "    selected.append(ele)\n",
        "print(selected)"
      ],
      "execution_count": null,
      "outputs": [
        {
          "output_type": "stream",
          "text": [
            "[38, 47, 44, 32, 47, 30, 36, 45]\n"
          ],
          "name": "stdout"
        }
      ]
    },
    {
      "cell_type": "code",
      "metadata": {
        "colab": {
          "base_uri": "https://localhost:8080/"
        },
        "id": "XzFGndAYz_2v",
        "outputId": "3ae7a183-6975-4411-a2e6-939dc5e154af"
      },
      "source": [
        "selected = [ele for ele in nums if ele <= 40]\n",
        "print(selected)"
      ],
      "execution_count": null,
      "outputs": [
        {
          "output_type": "stream",
          "text": [
            "[38, 32, 25, 30, 20, 36]\n"
          ],
          "name": "stdout"
        }
      ]
    },
    {
      "cell_type": "code",
      "metadata": {
        "colab": {
          "base_uri": "https://localhost:8080/"
        },
        "id": "c9phicwn1rh7",
        "outputId": "83cf63d8-3770-4132-b395-2ee850a9ec25"
      },
      "source": [
        "#Cut the sticks"
      ],
      "execution_count": null,
      "outputs": [
        {
          "output_type": "stream",
          "text": [
            "[38, 47, 44, 32, 47, 30, 36, 45]\n"
          ],
          "name": "stdout"
        }
      ]
    },
    {
      "cell_type": "code",
      "metadata": {
        "colab": {
          "base_uri": "https://localhost:8080/"
        },
        "id": "wuRWg6C-0AEM",
        "outputId": "f3b894ca-1ce0-4a4a-a735-00f57694dbdd"
      },
      "source": [
        "for ele in zip([1,2,3], [4,5]):\n",
        "  print(ele)"
      ],
      "execution_count": null,
      "outputs": [
        {
          "output_type": "stream",
          "text": [
            "(1, 4)\n",
            "(2, 5)\n"
          ],
          "name": "stdout"
        }
      ]
    },
    {
      "cell_type": "code",
      "metadata": {
        "colab": {
          "base_uri": "https://localhost:8080/"
        },
        "id": "lLJRCwwT0AP1",
        "outputId": "217ba577-f8fa-4f82-d52a-2e9e0dd41248"
      },
      "source": [
        "marks = [34,23,49, 10 ]\n",
        "all(marks)"
      ],
      "execution_count": null,
      "outputs": [
        {
          "output_type": "execute_result",
          "data": {
            "text/plain": [
              "True"
            ]
          },
          "metadata": {
            "tags": []
          },
          "execution_count": 206
        }
      ]
    },
    {
      "cell_type": "code",
      "metadata": {
        "colab": {
          "base_uri": "https://localhost:8080/"
        },
        "id": "pyiNPXl23IMs",
        "outputId": "caf6bc98-90b9-4f54-cfb3-5e2c3e9d92dc"
      },
      "source": [
        "all ( map(lambda x : x >= 20 , marks) )"
      ],
      "execution_count": null,
      "outputs": [
        {
          "output_type": "execute_result",
          "data": {
            "text/plain": [
              "False"
            ]
          },
          "metadata": {
            "tags": []
          },
          "execution_count": 207
        }
      ]
    },
    {
      "cell_type": "code",
      "metadata": {
        "colab": {
          "base_uri": "https://localhost:8080/",
          "height": 35
        },
        "id": "c-5RCS9x4o3w",
        "outputId": "eee2b960-4288-49e4-c4a4-257cc2984cc5"
      },
      "source": [
        "\"Passed\" if all([ele >= 20 for ele in marks])  else \"Fail\""
      ],
      "execution_count": null,
      "outputs": [
        {
          "output_type": "execute_result",
          "data": {
            "application/vnd.google.colaboratory.intrinsic+json": {
              "type": "string"
            },
            "text/plain": [
              "'Fail'"
            ]
          },
          "metadata": {
            "tags": []
          },
          "execution_count": 210
        }
      ]
    },
    {
      "cell_type": "code",
      "metadata": {
        "colab": {
          "base_uri": "https://localhost:8080/"
        },
        "id": "hSSkWJNw48gB",
        "outputId": "285cd1e4-96e3-46fd-8bd8-9db205efc8bd"
      },
      "source": [
        "print( any([0,0,0]) )\n",
        "print( any([0,1,0]) )"
      ],
      "execution_count": null,
      "outputs": [
        {
          "output_type": "stream",
          "text": [
            "False\n",
            "True\n"
          ],
          "name": "stdout"
        }
      ]
    },
    {
      "cell_type": "code",
      "metadata": {
        "id": "wChh_kUF5EJo"
      },
      "source": [
        "#List is mutable DS, it can grow and shrink, we can modify elements \n",
        "#Tuple is immutable DS, it cannot grow or shrink, we cannot modify the elements\n"
      ],
      "execution_count": null,
      "outputs": []
    },
    {
      "cell_type": "code",
      "metadata": {
        "colab": {
          "base_uri": "https://localhost:8080/"
        },
        "id": "b1A_4uXH64FX",
        "outputId": "505ba674-768b-4e03-b70e-137bdd94fb62"
      },
      "source": [
        "a = 5,10,15 \n",
        "print(a)"
      ],
      "execution_count": null,
      "outputs": [
        {
          "output_type": "stream",
          "text": [
            "(5, 10, 15)\n"
          ],
          "name": "stdout"
        }
      ]
    },
    {
      "cell_type": "code",
      "metadata": {
        "colab": {
          "base_uri": "https://localhost:8080/"
        },
        "id": "Df93Awys64OG",
        "outputId": "09a82524-78fc-45e2-b912-a1da41dc3c15"
      },
      "source": [
        "print(a[0])  #valid\n",
        "#a[0] = 23   #invalid"
      ],
      "execution_count": null,
      "outputs": [
        {
          "output_type": "stream",
          "text": [
            "5\n"
          ],
          "name": "stdout"
        }
      ]
    },
    {
      "cell_type": "code",
      "metadata": {
        "id": "gQwC_z6G64SS"
      },
      "source": [
        "#append, insert, extend, pop, remove, sort : not  supported\n",
        "#index, count  : supported\n",
        "#sum, max, min"
      ],
      "execution_count": null,
      "outputs": []
    },
    {
      "cell_type": "code",
      "metadata": {
        "id": "tnFr-Xco64Vx"
      },
      "source": [
        "b = 5\n",
        "c = (5)\n",
        "print(type(b))\n",
        "print(type(c))"
      ],
      "execution_count": null,
      "outputs": []
    },
    {
      "cell_type": "code",
      "metadata": {
        "id": "u89rdZfY64ZL"
      },
      "source": [
        "x = 5,\n",
        "y = (5,)\n",
        "z = tuple()"
      ],
      "execution_count": null,
      "outputs": []
    },
    {
      "cell_type": "code",
      "metadata": {
        "id": "UvW5t04n64c0"
      },
      "source": [
        "def mymax(*args):\n",
        "  print(type(args))\n",
        "  print(args)"
      ],
      "execution_count": null,
      "outputs": []
    },
    {
      "cell_type": "code",
      "metadata": {
        "colab": {
          "base_uri": "https://localhost:8080/"
        },
        "id": "wn9wIEHG9sEx",
        "outputId": "52e0c2f4-4271-4c05-9b87-41ba9d85f046"
      },
      "source": [
        "mymax(1)\n",
        "mymax(1,2,3,4)"
      ],
      "execution_count": null,
      "outputs": [
        {
          "output_type": "stream",
          "text": [
            "<class 'tuple'>\n",
            "(1,)\n",
            "<class 'tuple'>\n",
            "(1, 2, 3, 4)\n"
          ],
          "name": "stdout"
        }
      ]
    },
    {
      "cell_type": "code",
      "metadata": {
        "id": "04xDboYk9so_"
      },
      "source": [
        "def calculate(a,b):\n",
        "  return a + b, a - b"
      ],
      "execution_count": null,
      "outputs": []
    },
    {
      "cell_type": "code",
      "metadata": {
        "colab": {
          "base_uri": "https://localhost:8080/"
        },
        "id": "nBL5OX2H9tBc",
        "outputId": "3d5a6c83-2849-49e0-cc30-36233c569e0e"
      },
      "source": [
        "res = calculate(4,9)\n",
        "print(type(res))\n",
        "print(res)"
      ],
      "execution_count": null,
      "outputs": [
        {
          "output_type": "stream",
          "text": [
            "<class 'tuple'>\n",
            "(13, -5)\n"
          ],
          "name": "stdout"
        }
      ]
    },
    {
      "cell_type": "code",
      "metadata": {
        "id": "7892cXes-Lii"
      },
      "source": [
        "#strings\n",
        "#There is no datatype called as character is python.\n",
        "#strings do not end with \\0\n",
        "#we can use single qotes or double quotes for representing strings"
      ],
      "execution_count": null,
      "outputs": []
    },
    {
      "cell_type": "code",
      "metadata": {
        "colab": {
          "base_uri": "https://localhost:8080/"
        },
        "id": "HrN9TSQD-Nhp",
        "outputId": "b5e3c265-b845-4ad7-c930-c3fe8c339cfd"
      },
      "source": [
        "name = \"Sikander\"\n",
        "print(name)"
      ],
      "execution_count": null,
      "outputs": [
        {
          "output_type": "stream",
          "text": [
            "Sikander\n"
          ],
          "name": "stdout"
        }
      ]
    },
    {
      "cell_type": "code",
      "metadata": {
        "colab": {
          "base_uri": "https://localhost:8080/"
        },
        "id": "BL47gqM4-NwC",
        "outputId": "0ae69854-dc82-4bd6-bd96-8e45de794d55"
      },
      "source": [
        "name = 'Brajesh Kumar'\n",
        "print(name)"
      ],
      "execution_count": null,
      "outputs": [
        {
          "output_type": "stream",
          "text": [
            "Brajesh Kumar\n"
          ],
          "name": "stdout"
        }
      ]
    },
    {
      "cell_type": "code",
      "metadata": {
        "colab": {
          "base_uri": "https://localhost:8080/"
        },
        "id": "hwgwy0Vu-OJU",
        "outputId": "782c679f-c579-43a0-f49a-f2aa14523e39"
      },
      "source": [
        "height1 = \"5'6\\\"\"\n",
        "height2 = '5\\'6\"'\n",
        "print(height1)\n",
        "print(height2)"
      ],
      "execution_count": null,
      "outputs": [
        {
          "output_type": "stream",
          "text": [
            "5'6\"\n",
            "5'6\"\n"
          ],
          "name": "stdout"
        }
      ]
    },
    {
      "cell_type": "code",
      "metadata": {
        "colab": {
          "base_uri": "https://localhost:8080/",
          "height": 166
        },
        "id": "uOpdNLY4_H6m",
        "outputId": "d9defa7f-eaa2-4998-f09b-1ba9d8ca4993"
      },
      "source": [
        "# name[0] = 'R'"
      ],
      "execution_count": null,
      "outputs": [
        {
          "output_type": "error",
          "ename": "TypeError",
          "evalue": "ignored",
          "traceback": [
            "\u001b[0;31m---------------------------------------------------------------------------\u001b[0m",
            "\u001b[0;31mTypeError\u001b[0m                                 Traceback (most recent call last)",
            "\u001b[0;32m<ipython-input-233-acbce0d18936>\u001b[0m in \u001b[0;36m<module>\u001b[0;34m()\u001b[0m\n\u001b[0;32m----> 1\u001b[0;31m \u001b[0mname\u001b[0m\u001b[0;34m[\u001b[0m\u001b[0;36m0\u001b[0m\u001b[0;34m]\u001b[0m \u001b[0;34m=\u001b[0m \u001b[0;34m'R'\u001b[0m\u001b[0;34m\u001b[0m\u001b[0;34m\u001b[0m\u001b[0m\n\u001b[0m",
            "\u001b[0;31mTypeError\u001b[0m: 'str' object does not support item assignment"
          ]
        }
      ]
    },
    {
      "cell_type": "code",
      "metadata": {
        "id": "GsGyMEsO_IA8"
      },
      "source": [
        "#str + str #valid\n",
        "#str + int #invalid\n",
        "#str * int #valid  (repeat)\n",
        "#str * str #invalid"
      ],
      "execution_count": null,
      "outputs": []
    },
    {
      "cell_type": "code",
      "metadata": {
        "colab": {
          "base_uri": "https://localhost:8080/"
        },
        "id": "c7nXUO2w_IEW",
        "outputId": "b3163b90-723b-4e71-989c-d0be834145d2"
      },
      "source": [
        "print(\"*\" * 1)\n",
        "print(\"*\" * 2)\n",
        "print(\"*\" * 3)\n",
        "print(\"*\" * 4)\n",
        "print(\"*\" * 5)"
      ],
      "execution_count": null,
      "outputs": [
        {
          "output_type": "stream",
          "text": [
            "*\n",
            "**\n",
            "***\n",
            "****\n",
            "*****\n"
          ],
          "name": "stdout"
        }
      ]
    },
    {
      "cell_type": "code",
      "metadata": {
        "id": "kwOu-BtH_IHs"
      },
      "source": [
        "print(\"*\" * 5)   #range(5,0,-1)\n",
        "print(\"*\" * 4)\n",
        "print(\"*\" * 3)\n",
        "print(\"*\" * 2)\n",
        "print(\"*\" * 1)"
      ],
      "execution_count": null,
      "outputs": []
    },
    {
      "cell_type": "code",
      "metadata": {
        "colab": {
          "base_uri": "https://localhost:8080/"
        },
        "id": "wyVW3SPIAHWV",
        "outputId": "9eb2dad6-628a-4897-e5fe-56ee661471a7"
      },
      "source": [
        "#ctype.h  isdigit,  tolower \n",
        "# String Methods\n",
        "\"123\".isdigit()"
      ],
      "execution_count": null,
      "outputs": [
        {
          "output_type": "execute_result",
          "data": {
            "text/plain": [
              "True"
            ]
          },
          "metadata": {
            "tags": []
          },
          "execution_count": 237
        }
      ]
    },
    {
      "cell_type": "code",
      "metadata": {
        "colab": {
          "base_uri": "https://localhost:8080/"
        },
        "id": "8ZFNMHcuAHay",
        "outputId": "dfcf43e7-61cd-4680-9802-89a368bb7a37"
      },
      "source": [
        "\"12ab45\".isdigit()"
      ],
      "execution_count": null,
      "outputs": [
        {
          "output_type": "execute_result",
          "data": {
            "text/plain": [
              "False"
            ]
          },
          "metadata": {
            "tags": []
          },
          "execution_count": 238
        }
      ]
    },
    {
      "cell_type": "code",
      "metadata": {
        "colab": {
          "base_uri": "https://localhost:8080/"
        },
        "id": "8tC2yA13AHiP",
        "outputId": "77ef2d9a-b916-4ed9-8cec-a751f00ab9ae"
      },
      "source": [
        "print( \"HELLO\".isupper() )\n",
        "print(\"Hello\".isupper())"
      ],
      "execution_count": null,
      "outputs": [
        {
          "output_type": "stream",
          "text": [
            "True\n",
            "False\n"
          ],
          "name": "stdout"
        }
      ]
    },
    {
      "cell_type": "code",
      "metadata": {
        "colab": {
          "base_uri": "https://localhost:8080/"
        },
        "id": "INNuw6vBHDbF",
        "outputId": "ade1d294-42e2-4fa3-af93-2b7e48dc5234"
      },
      "source": [
        "# isdigit, isupper, islower, isspace, isalnum, isalpha\n",
        "# dir(str)\n",
        "print( \"HELLO\".istitle() )\n",
        "\"Hello World\".istitle()"
      ],
      "execution_count": null,
      "outputs": [
        {
          "output_type": "stream",
          "text": [
            "False\n"
          ],
          "name": "stdout"
        },
        {
          "output_type": "execute_result",
          "data": {
            "text/plain": [
              "True"
            ]
          },
          "metadata": {
            "tags": []
          },
          "execution_count": 242
        }
      ]
    },
    {
      "cell_type": "code",
      "metadata": {
        "colab": {
          "base_uri": "https://localhost:8080/"
        },
        "id": "-Y-d_EtKHE9Y",
        "outputId": "53edd174-310d-496a-b024-59799124bd92"
      },
      "source": [
        "data = \"sikander\"\n",
        "print( data.upper() )\n",
        "print( data )"
      ],
      "execution_count": null,
      "outputs": [
        {
          "output_type": "stream",
          "text": [
            "SIKANDER\n",
            "sikander\n"
          ],
          "name": "stdout"
        }
      ]
    },
    {
      "cell_type": "code",
      "metadata": {
        "colab": {
          "base_uri": "https://localhost:8080/"
        },
        "id": "l6kUCjuuHFHI",
        "outputId": "829f8915-f6c0-40b3-e5f5-481c91f1613a"
      },
      "source": [
        "# data.lower() , data.capitalize(), data.swapcase()\n",
        "print( data.center(20,'*') )\n",
        "print( data.ljust(20,'*') )\n",
        "print( data.rjust(20,'*') )"
      ],
      "execution_count": null,
      "outputs": [
        {
          "output_type": "stream",
          "text": [
            "******sikander******\n",
            "sikander************\n",
            "************sikander\n"
          ],
          "name": "stdout"
        }
      ]
    },
    {
      "cell_type": "code",
      "metadata": {
        "id": "p0ebc2fjHFKk"
      },
      "source": [
        "#split(), strip(), join"
      ],
      "execution_count": null,
      "outputs": []
    },
    {
      "cell_type": "code",
      "metadata": {
        "colab": {
          "base_uri": "https://localhost:8080/"
        },
        "id": "Lzx0gy_ZJhYN",
        "outputId": "7459bf1e-54e1-4e1a-ca30-9866f692c03d"
      },
      "source": [
        "words = \"\"\"Today,is,Thursday\"\"\".split(',')\n",
        "print(words)\n",
        "print(len(words))"
      ],
      "execution_count": null,
      "outputs": [
        {
          "output_type": "stream",
          "text": [
            "['Today', 'is', 'Thursday']\n",
            "3\n"
          ],
          "name": "stdout"
        }
      ]
    },
    {
      "cell_type": "code",
      "metadata": {
        "colab": {
          "base_uri": "https://localhost:8080/",
          "height": 35
        },
        "id": "2oe50G0sJh6L",
        "outputId": "cf7d3d8c-11f5-49eb-da03-3e2904bbe142"
      },
      "source": [
        "\" \".join(words)"
      ],
      "execution_count": null,
      "outputs": [
        {
          "output_type": "execute_result",
          "data": {
            "application/vnd.google.colaboratory.intrinsic+json": {
              "type": "string"
            },
            "text/plain": [
              "'Today is Thursday'"
            ]
          },
          "metadata": {
            "tags": []
          },
          "execution_count": 252
        }
      ]
    },
    {
      "cell_type": "code",
      "metadata": {
        "colab": {
          "base_uri": "https://localhost:8080/",
          "height": 35
        },
        "id": "8ECfVzduJiQU",
        "outputId": "50dbc2c3-076a-4325-fd5e-4bad3ea7e306"
      },
      "source": [
        "\"   asf adsf  \".strip()"
      ],
      "execution_count": null,
      "outputs": [
        {
          "output_type": "execute_result",
          "data": {
            "application/vnd.google.colaboratory.intrinsic+json": {
              "type": "string"
            },
            "text/plain": [
              "'asf adsf'"
            ]
          },
          "metadata": {
            "tags": []
          },
          "execution_count": 253
        }
      ]
    },
    {
      "cell_type": "code",
      "metadata": {
        "colab": {
          "base_uri": "https://localhost:8080/",
          "height": 35
        },
        "id": "ouNj6otQJikH",
        "outputId": "96689acd-0f28-4339-d4db-cf8541c3a7ae"
      },
      "source": [
        "data = \"bharat\"\n",
        "\"\".join(sorted(data))\n",
        "# \"aabhrt\""
      ],
      "execution_count": null,
      "outputs": [
        {
          "output_type": "execute_result",
          "data": {
            "application/vnd.google.colaboratory.intrinsic+json": {
              "type": "string"
            },
            "text/plain": [
              "'aabhrt'"
            ]
          },
          "metadata": {
            "tags": []
          },
          "execution_count": 255
        }
      ]
    },
    {
      "cell_type": "code",
      "metadata": {
        "colab": {
          "base_uri": "https://localhost:8080/"
        },
        "id": "O8Deyzf6Ji7x",
        "outputId": "93d0e883-3250-400b-c525-4165c5a3a866"
      },
      "source": [
        "# count number of vowels in a give in string\n",
        "data.count('a')  "
      ],
      "execution_count": null,
      "outputs": [
        {
          "output_type": "execute_result",
          "data": {
            "text/plain": [
              "2"
            ]
          },
          "metadata": {
            "tags": []
          },
          "execution_count": 256
        }
      ]
    },
    {
      "cell_type": "code",
      "metadata": {
        "colab": {
          "base_uri": "https://localhost:8080/"
        },
        "id": "hRqg14AhMoWk",
        "outputId": "4ee0fc9d-c356-4015-9acd-ec20f3b8b76e"
      },
      "source": [
        "data = \"bharat electronics\"\n",
        "data = \"Olavu\"\n",
        "sum( list(map(lambda x : x.lower() in \"aeiou\" , data)) )"
      ],
      "execution_count": null,
      "outputs": [
        {
          "output_type": "execute_result",
          "data": {
            "text/plain": [
              "3"
            ]
          },
          "metadata": {
            "tags": []
          },
          "execution_count": 263
        }
      ]
    },
    {
      "cell_type": "code",
      "metadata": {
        "colab": {
          "base_uri": "https://localhost:8080/",
          "height": 35
        },
        "id": "_F9M9gTuMpE2",
        "outputId": "9f211886-e4b6-4d5b-9776-42ae9910c65d"
      },
      "source": [
        "\"\".join( [c for c in data if c.lower() in \"aeiou\"] )"
      ],
      "execution_count": null,
      "outputs": [
        {
          "output_type": "execute_result",
          "data": {
            "application/vnd.google.colaboratory.intrinsic+json": {
              "type": "string"
            },
            "text/plain": [
              "'Oau'"
            ]
          },
          "metadata": {
            "tags": []
          },
          "execution_count": 266
        }
      ]
    },
    {
      "cell_type": "markdown",
      "metadata": {
        "id": "LJXFsJwpQ3oD"
      },
      "source": [
        "## Set"
      ]
    },
    {
      "cell_type": "code",
      "metadata": {
        "id": "GYI31o8DMpaW"
      },
      "source": [
        "# A collection of unique elements.\n",
        "# C++ : Set uses Tree, Python : hashing \n",
        "# C++: ordered set, Python : Unordered set\n",
        "# We cannot access individual elements using index "
      ],
      "execution_count": null,
      "outputs": []
    },
    {
      "cell_type": "code",
      "metadata": {
        "colab": {
          "base_uri": "https://localhost:8080/"
        },
        "id": "3e7TJlCMQoe2",
        "outputId": "e158fb39-31e9-45e2-fb2f-cb960f9902f9"
      },
      "source": [
        "emptySet = set()\n",
        "nums = {12,21,23,34}\n",
        "print(emptySet, type(emptySet))\n",
        "print(nums, type(nums))"
      ],
      "execution_count": null,
      "outputs": [
        {
          "output_type": "stream",
          "text": [
            "set() <class 'set'>\n",
            "{34, 12, 21, 23} <class 'set'>\n"
          ],
          "name": "stdout"
        }
      ]
    },
    {
      "cell_type": "code",
      "metadata": {
        "colab": {
          "base_uri": "https://localhost:8080/"
        },
        "id": "UoJB7CYzQo8d",
        "outputId": "b5862aa6-5e53-4ffe-c122-9e1a4b573587"
      },
      "source": [
        "set(\"bharat electronics\")\n",
        "#bhart elconis"
      ],
      "execution_count": null,
      "outputs": [
        {
          "output_type": "execute_result",
          "data": {
            "text/plain": [
              "{' ', 'a', 'b', 'c', 'e', 'h', 'i', 'l', 'n', 'o', 'r', 's', 't'}"
            ]
          },
          "metadata": {
            "tags": []
          },
          "execution_count": 270
        }
      ]
    },
    {
      "cell_type": "code",
      "metadata": {
        "colab": {
          "base_uri": "https://localhost:8080/"
        },
        "id": "verpJBPdQpSO",
        "outputId": "a5053736-f76c-4925-e2b1-421d7f1f3409"
      },
      "source": [
        "data = \"bharat electronics\"\n",
        "unique = []\n",
        "for c in data:\n",
        "  if c not in unique:\n",
        "    unique.append(c)\n",
        "print(unique)"
      ],
      "execution_count": null,
      "outputs": [
        {
          "output_type": "stream",
          "text": [
            "['b', 'h', 'a', 'r', 't', ' ', 'e', 'l', 'c', 'o', 'n', 'i', 's']\n"
          ],
          "name": "stdout"
        }
      ]
    },
    {
      "cell_type": "code",
      "metadata": {
        "id": "cQPxLGtZU_D8"
      },
      "source": [
        "del unique"
      ],
      "execution_count": null,
      "outputs": []
    },
    {
      "cell_type": "code",
      "metadata": {
        "colab": {
          "base_uri": "https://localhost:8080/"
        },
        "id": "sCF6kvjTQpyu",
        "outputId": "5a178dec-027f-417f-f8dc-e2b321210d2c"
      },
      "source": [
        "data = \"bharat electronics\"\n",
        "unique = []\n",
        "[unique.append(c) for c in data if c not in unique]\n",
        "\n",
        "print(unique)"
      ],
      "execution_count": null,
      "outputs": [
        {
          "output_type": "stream",
          "text": [
            "['b', 'h', 'a', 'r', 't', ' ', 'e', 'l', 'c', 'o', 'n', 'i', 's']\n"
          ],
          "name": "stdout"
        }
      ]
    },
    {
      "cell_type": "code",
      "metadata": {
        "id": "M9_fQnJDQqny"
      },
      "source": [
        "# union, intersection, difference, symmetricdifference\n",
        "# & intersection \n",
        "# | union\n",
        "# ^ symmetric difference\n",
        "# - difference"
      ],
      "execution_count": null,
      "outputs": []
    },
    {
      "cell_type": "code",
      "metadata": {
        "colab": {
          "base_uri": "https://localhost:8080/"
        },
        "id": "AKgmwuR9VbXT",
        "outputId": "05233bb9-6fbe-496f-af1a-f2e12718ea96"
      },
      "source": [
        "a = generateRandoms(10 , 0, 20)\n",
        "b = generateRandoms(10 , 0, 20)\n",
        "print(a , b)"
      ],
      "execution_count": null,
      "outputs": [
        {
          "output_type": "stream",
          "text": [
            "[4, 17, 11, 0, 13, 13, 0, 9, 3, 9] [9, 1, 2, 5, 0, 6, 19, 4, 12, 5]\n"
          ],
          "name": "stdout"
        }
      ]
    },
    {
      "cell_type": "code",
      "metadata": {
        "colab": {
          "base_uri": "https://localhost:8080/"
        },
        "id": "-Y5w2ZzHVcL_",
        "outputId": "1723b1b7-d624-4872-bfa5-3f334d6c32a2"
      },
      "source": [
        "set(a) & set(b)"
      ],
      "execution_count": null,
      "outputs": [
        {
          "output_type": "execute_result",
          "data": {
            "text/plain": [
              "{0, 4, 9}"
            ]
          },
          "metadata": {
            "tags": []
          },
          "execution_count": 280
        }
      ]
    },
    {
      "cell_type": "code",
      "metadata": {
        "colab": {
          "base_uri": "https://localhost:8080/"
        },
        "id": "L6ObB3ihVcxf",
        "outputId": "fabdb965-3941-4933-9fd2-60a937374b57"
      },
      "source": [
        "x = set(a)\n",
        "y = set(b)\n",
        "print(x, \"\\n\" , y)"
      ],
      "execution_count": null,
      "outputs": [
        {
          "output_type": "stream",
          "text": [
            "{0, 3, 4, 9, 11, 13, 17} \n",
            " {0, 1, 2, 4, 5, 6, 9, 12, 19}\n"
          ],
          "name": "stdout"
        }
      ]
    },
    {
      "cell_type": "code",
      "metadata": {
        "colab": {
          "base_uri": "https://localhost:8080/"
        },
        "id": "uMukyHduVeR_",
        "outputId": "6d6fc76c-3b9e-4c53-da72-ba85d8feb864"
      },
      "source": [
        "x | y"
      ],
      "execution_count": null,
      "outputs": [
        {
          "output_type": "execute_result",
          "data": {
            "text/plain": [
              "{0, 1, 2, 3, 4, 5, 6, 9, 11, 12, 13, 17, 19}"
            ]
          },
          "metadata": {
            "tags": []
          },
          "execution_count": 283
        }
      ]
    },
    {
      "cell_type": "code",
      "metadata": {
        "colab": {
          "base_uri": "https://localhost:8080/"
        },
        "id": "nDfdEodhWtTK",
        "outputId": "b1b4df89-6a98-42a8-804b-39e97f278348"
      },
      "source": [
        "x - y"
      ],
      "execution_count": null,
      "outputs": [
        {
          "output_type": "execute_result",
          "data": {
            "text/plain": [
              "{3, 11, 13, 17}"
            ]
          },
          "metadata": {
            "tags": []
          },
          "execution_count": 284
        }
      ]
    },
    {
      "cell_type": "code",
      "metadata": {
        "colab": {
          "base_uri": "https://localhost:8080/"
        },
        "id": "2KBZP2GXW5Y4",
        "outputId": "e10bc990-9007-4a8e-e633-3cfbe7b88864"
      },
      "source": [
        "y - x"
      ],
      "execution_count": null,
      "outputs": [
        {
          "output_type": "execute_result",
          "data": {
            "text/plain": [
              "{1, 2, 5, 6, 12, 19}"
            ]
          },
          "metadata": {
            "tags": []
          },
          "execution_count": 285
        }
      ]
    },
    {
      "cell_type": "code",
      "metadata": {
        "colab": {
          "base_uri": "https://localhost:8080/"
        },
        "id": "XZvnp2sMW8CT",
        "outputId": "fd0d10a7-6718-458e-f394-fafa9a280e9c"
      },
      "source": [
        "x ^ y"
      ],
      "execution_count": null,
      "outputs": [
        {
          "output_type": "execute_result",
          "data": {
            "text/plain": [
              "{1, 2, 3, 5, 6, 11, 12, 13, 17, 19}"
            ]
          },
          "metadata": {
            "tags": []
          },
          "execution_count": 286
        }
      ]
    },
    {
      "cell_type": "code",
      "metadata": {
        "colab": {
          "base_uri": "https://localhost:8080/"
        },
        "id": "S6Fe_0CWXAvO",
        "outputId": "5260418f-65a8-4800-b338-d41f63216052"
      },
      "source": [
        "x.union(y)"
      ],
      "execution_count": null,
      "outputs": [
        {
          "output_type": "execute_result",
          "data": {
            "text/plain": [
              "{0, 1, 2, 3, 4, 5, 6, 9, 11, 12, 13, 17, 19}"
            ]
          },
          "metadata": {
            "tags": []
          },
          "execution_count": 287
        }
      ]
    },
    {
      "cell_type": "code",
      "metadata": {
        "colab": {
          "base_uri": "https://localhost:8080/"
        },
        "id": "ttHnoKsJXH0O",
        "outputId": "8a356dde-7561-4ef4-8f0c-f20fa7307bc5"
      },
      "source": [
        "x.issuperset(y)"
      ],
      "execution_count": null,
      "outputs": [
        {
          "output_type": "execute_result",
          "data": {
            "text/plain": [
              "False"
            ]
          },
          "metadata": {
            "tags": []
          },
          "execution_count": 288
        }
      ]
    },
    {
      "cell_type": "code",
      "metadata": {
        "colab": {
          "base_uri": "https://localhost:8080/"
        },
        "id": "YUzUz9djXS8E",
        "outputId": "6f9d7a2d-ae9c-4218-eb01-9658ebd0594e"
      },
      "source": [
        "print(x)\n",
        "x.add(23)\n",
        "print(x)"
      ],
      "execution_count": null,
      "outputs": [
        {
          "output_type": "stream",
          "text": [
            "{0, 3, 4, 9, 11, 13, 17}\n",
            "{0, 3, 4, 9, 11, 13, 17, 23}\n"
          ],
          "name": "stdout"
        }
      ]
    },
    {
      "cell_type": "code",
      "metadata": {
        "colab": {
          "base_uri": "https://localhost:8080/"
        },
        "id": "aBz6vfhRXeKL",
        "outputId": "608b1600-f98d-4c82-ebf7-8e58c95541b8"
      },
      "source": [
        "# dir(x)\n",
        "x.remove(11)\n",
        "print(x)"
      ],
      "execution_count": null,
      "outputs": [
        {
          "output_type": "stream",
          "text": [
            "{0, 3, 4, 9, 13, 17, 23}\n"
          ],
          "name": "stdout"
        }
      ]
    },
    {
      "cell_type": "code",
      "metadata": {
        "colab": {
          "base_uri": "https://localhost:8080/"
        },
        "id": "SmFuSkh9Xlgp",
        "outputId": "ea840fc7-1e4b-4b90-892f-2865a1cdced0"
      },
      "source": [
        "x.discard(17)\n",
        "print(x)"
      ],
      "execution_count": null,
      "outputs": [
        {
          "output_type": "stream",
          "text": [
            "{0, 3, 4, 9, 13, 23}\n"
          ],
          "name": "stdout"
        }
      ]
    },
    {
      "cell_type": "markdown",
      "metadata": {
        "id": "4y_5yYs6NLsa"
      },
      "source": [
        "# 11-Jun-2021"
      ]
    },
    {
      "cell_type": "code",
      "metadata": {
        "id": "ijVcj_ymX2a9"
      },
      "source": [
        "#any variable  outside the function is called as global variable\n",
        "\n",
        "a = 5  \n",
        "\n",
        "def fun1( ) :\n",
        "\tprint(\"fun1 a = \" , a )\n",
        "\n",
        "def fun2( ) :\n",
        "\tprint(\"fun2 a = \" , a )\n",
        "\n",
        "\n",
        "fun1()\n",
        "fun2()"
      ],
      "execution_count": null,
      "outputs": []
    },
    {
      "cell_type": "code",
      "metadata": {
        "id": "wY2X0SdwOew4"
      },
      "source": [
        "#any variable  outside the function is called as global variable\n",
        "\n",
        "a = 5  \n",
        "\n",
        "def fun1( ) :\n",
        "\ta = 10\n",
        "\tprint(\"fun1 a = \" , a )\n",
        "\n",
        "def fun2( ) :\n",
        "\tprint(\"fun2 a = \" , a )\n",
        "\n",
        "\n",
        "fun1()\n",
        "fun2()"
      ],
      "execution_count": null,
      "outputs": []
    },
    {
      "cell_type": "code",
      "metadata": {
        "id": "xzsE9ciHO35v"
      },
      "source": [
        "#any variable  outside the function is called as global variable\n",
        "\n",
        "a = 5  \n",
        "\n",
        "def fun1( ) :\n",
        "\tglobal a\n",
        "\ta = 10\n",
        "\tprint(\"fun1 a = \" , a )\n",
        "\n",
        "def fun2( ) :\n",
        "\tprint(\"fun2 a = \" , a )\n",
        "\n",
        "\n",
        "fun1()\n",
        "fun2()"
      ],
      "execution_count": null,
      "outputs": []
    },
    {
      "cell_type": "code",
      "metadata": {
        "id": "m7KnDiznRjsh"
      },
      "source": [
        "#calculator.py\n",
        "def add(a, b):\n",
        "\tprint(\"Add \")\n",
        "\treturn a + b"
      ],
      "execution_count": null,
      "outputs": []
    },
    {
      "cell_type": "code",
      "metadata": {
        "id": "N-0-d-rpRkBG"
      },
      "source": [
        "import calculator\n",
        "\n",
        "a = 5\n",
        "b = 10\n",
        "res = calculator.add(a, b)\n",
        "\n",
        "#print(f\"{a} + {b} = {res}\")\n",
        "\n",
        "print(\"{} + {} = {}\".format(a,b,res))"
      ],
      "execution_count": null,
      "outputs": []
    },
    {
      "cell_type": "code",
      "metadata": {
        "id": "-goOKi-fRkUB"
      },
      "source": [
        "def add(a, b):\n",
        "\tprint(\"Add \")\n",
        "\treturn a + b\n",
        "\n",
        "print(\"calculator.py __name__ = \" , __name__)\n",
        "\n",
        "\n",
        "if __name__ == \"__main__\":\n",
        "\tprint(\"This is global statement in calculator.py\")"
      ],
      "execution_count": null,
      "outputs": []
    },
    {
      "cell_type": "code",
      "metadata": {
        "id": "nmd_sxSWRkj7"
      },
      "source": [
        "import calculator\n",
        "\n",
        "print(\"test_calculator.py __name__ = \" , __name__)\n",
        "a = 5\n",
        "b = 10\n",
        "res = calculator.add(a, b)\n",
        "\n",
        "#print(f\"{a} + {b} = {res}\")\n",
        "\n",
        "print(\"{} + {} = {}\".format(a,b,res))"
      ],
      "execution_count": null,
      "outputs": []
    },
    {
      "cell_type": "markdown",
      "metadata": {
        "id": "YevviXDpUOrS"
      },
      "source": [
        "## Dictionary"
      ]
    },
    {
      "cell_type": "code",
      "metadata": {
        "id": "e3LK7m6aRk3u"
      },
      "source": [
        "#In a dictionary every element has two part (key, value)\n",
        "marks = [12,21,23,32,43]\n",
        "names = ['venkatesh','rajeev','suhasm','nirupam','yogendra']"
      ],
      "execution_count": null,
      "outputs": []
    },
    {
      "cell_type": "code",
      "metadata": {
        "id": "ojG124DMUKtl"
      },
      "source": [
        "#1. get the index where the given name is stored.\n",
        "#2. goto marks list and access the element by specifying the index obtained from step 1."
      ],
      "execution_count": null,
      "outputs": []
    },
    {
      "cell_type": "code",
      "metadata": {
        "colab": {
          "base_uri": "https://localhost:8080/"
        },
        "id": "eX5KPy1uULBP",
        "outputId": "1b4e8cf5-7ad4-43a4-c589-006251ca083a"
      },
      "source": [
        "key = input(\"Enter the name : \")\n",
        "\n",
        "i = names.index(key)\n",
        "print( marks[i] )"
      ],
      "execution_count": null,
      "outputs": [
        {
          "output_type": "stream",
          "text": [
            "Enter the name : rajeev\n",
            "21\n"
          ],
          "name": "stdout"
        }
      ]
    },
    {
      "cell_type": "code",
      "metadata": {
        "id": "Xc_mg6DsVOSz"
      },
      "source": [
        "marksDict =  {'venkatesh' : 12,\n",
        "              'rajeev' : 21,\n",
        "              'suhasm':23,\n",
        "              'nirupam':32,\n",
        "              'yogendra':43}"
      ],
      "execution_count": null,
      "outputs": []
    },
    {
      "cell_type": "code",
      "metadata": {
        "colab": {
          "base_uri": "https://localhost:8080/",
          "height": 166
        },
        "id": "NSxGrlXDUL-2",
        "outputId": "6c742ab7-bdd4-423b-807d-c3ee633e3630"
      },
      "source": [
        "marksDict[\"sikander\"]"
      ],
      "execution_count": null,
      "outputs": [
        {
          "output_type": "error",
          "ename": "KeyError",
          "evalue": "ignored",
          "traceback": [
            "\u001b[0;31m---------------------------------------------------------------------------\u001b[0m",
            "\u001b[0;31mKeyError\u001b[0m                                  Traceback (most recent call last)",
            "\u001b[0;32m<ipython-input-5-130d65e6f014>\u001b[0m in \u001b[0;36m<module>\u001b[0;34m()\u001b[0m\n\u001b[0;32m----> 1\u001b[0;31m \u001b[0mmarksDict\u001b[0m\u001b[0;34m[\u001b[0m\u001b[0;34m\"sikander\"\u001b[0m\u001b[0;34m]\u001b[0m\u001b[0;34m\u001b[0m\u001b[0;34m\u001b[0m\u001b[0m\n\u001b[0m",
            "\u001b[0;31mKeyError\u001b[0m: 'sikander'"
          ]
        }
      ]
    },
    {
      "cell_type": "code",
      "metadata": {
        "colab": {
          "base_uri": "https://localhost:8080/"
        },
        "id": "-u6FS-iBWXdG",
        "outputId": "3cdc79b3-f352-4d01-e0f2-66d3d9cf4297"
      },
      "source": [
        "print( marksDict.get('nirupam') )\n",
        "print( marksDict.get('sikander') )\n",
        "print( marksDict.get('ankit' , 0) )"
      ],
      "execution_count": null,
      "outputs": [
        {
          "output_type": "stream",
          "text": [
            "32\n",
            "None\n",
            "0\n"
          ],
          "name": "stdout"
        }
      ]
    },
    {
      "cell_type": "code",
      "metadata": {
        "colab": {
          "base_uri": "https://localhost:8080/"
        },
        "id": "qTMYy2oIYs_t",
        "outputId": "ff04aae2-28f6-4f08-e179-3d30d779a01e"
      },
      "source": [
        "data = \"bharat electronis\"\n",
        "freq = {}\n",
        "for c in data:\n",
        "  #freq[c] = freq[c] + 1\n",
        "  if c in freq:\n",
        "    freq[c] = freq[c] + 1\n",
        "  else:\n",
        "    freq[c] = 1\n",
        "print(freq)"
      ],
      "execution_count": null,
      "outputs": [
        {
          "output_type": "stream",
          "text": [
            "{'b': 1, 'h': 1, 'a': 2, 'r': 2, 't': 2, ' ': 1, 'e': 2, 'l': 1, 'c': 1, 'o': 1, 'n': 1, 'i': 1, 's': 1}\n"
          ],
          "name": "stdout"
        }
      ]
    },
    {
      "cell_type": "code",
      "metadata": {
        "colab": {
          "base_uri": "https://localhost:8080/"
        },
        "id": "MZQb-ZixaVHE",
        "outputId": "581b15de-9787-4711-dd3c-5dae4631e6f5"
      },
      "source": [
        "data = \"bharat electronis\"\n",
        "freq = {}\n",
        "for c in data:\n",
        "    freq[c] = freq.get(c,0 ) + 1\n",
        "print(freq)"
      ],
      "execution_count": null,
      "outputs": [
        {
          "output_type": "stream",
          "text": [
            "{'b': 1, 'h': 1, 'a': 2, 'r': 2, 't': 2, ' ': 1, 'e': 2, 'l': 1, 'c': 1, 'o': 1, 'n': 1, 'i': 1, 's': 1}\n"
          ],
          "name": "stdout"
        }
      ]
    },
    {
      "cell_type": "code",
      "metadata": {
        "colab": {
          "base_uri": "https://localhost:8080/"
        },
        "id": "ApxOhm3Hb495",
        "outputId": "6438d26d-fa9c-45e0-cbd9-bf314f2c2970"
      },
      "source": [
        "data = \"public sector unit\"\n",
        "\n",
        "import collections\n",
        "freq = collections.Counter(data)\n",
        "print(freq)"
      ],
      "execution_count": null,
      "outputs": [
        {
          "output_type": "stream",
          "text": [
            "Counter({'u': 2, 'i': 2, 'c': 2, ' ': 2, 't': 2, 'p': 1, 'b': 1, 'l': 1, 's': 1, 'e': 1, 'o': 1, 'r': 1, 'n': 1})\n"
          ],
          "name": "stdout"
        }
      ]
    },
    {
      "cell_type": "code",
      "metadata": {
        "colab": {
          "base_uri": "https://localhost:8080/"
        },
        "id": "NrQbT8l-c1ue",
        "outputId": "f734d9bf-6211-4bbc-ea29-2eae2d351480"
      },
      "source": [
        "a = {}  #empty dict\n",
        "b = set()\n",
        "print(type(a))\n",
        "print(type(b))"
      ],
      "execution_count": null,
      "outputs": [
        {
          "output_type": "stream",
          "text": [
            "<class 'dict'>\n",
            "<class 'set'>\n"
          ],
          "name": "stdout"
        }
      ]
    },
    {
      "cell_type": "code",
      "metadata": {
        "colab": {
          "base_uri": "https://localhost:8080/"
        },
        "id": "EoyW6BRPc6_G",
        "outputId": "aa759aee-c111-4f54-f677-0ee086a8c6c7"
      },
      "source": [
        "a['a'] = 1\n",
        "a['b'] = 5\n",
        "a['c'] = 8\n",
        "print(a)"
      ],
      "execution_count": null,
      "outputs": [
        {
          "output_type": "stream",
          "text": [
            "{'a': 1, 'b': 5, 'c': 8}\n"
          ],
          "name": "stdout"
        }
      ]
    },
    {
      "cell_type": "code",
      "metadata": {
        "colab": {
          "base_uri": "https://localhost:8080/"
        },
        "id": "eS2cAYLAc7R4",
        "outputId": "af8c6bc5-51b2-4d35-a2aa-1551ec3e0862"
      },
      "source": [
        "a['a'] = 3\n",
        "print(a)"
      ],
      "execution_count": null,
      "outputs": [
        {
          "output_type": "stream",
          "text": [
            "{'a': 3, 'b': 5, 'c': 8}\n"
          ],
          "name": "stdout"
        }
      ]
    },
    {
      "cell_type": "code",
      "metadata": {
        "colab": {
          "base_uri": "https://localhost:8080/"
        },
        "id": "b7l5aLsIc7rf",
        "outputId": "a801cc01-f42f-477c-c367-a8cdc0183761"
      },
      "source": [
        "# a.remove('a')\n",
        "a.pop('a')\n",
        "print(a)"
      ],
      "execution_count": null,
      "outputs": [
        {
          "output_type": "stream",
          "text": [
            "{'b': 5, 'c': 8}\n"
          ],
          "name": "stdout"
        }
      ]
    },
    {
      "cell_type": "code",
      "metadata": {
        "colab": {
          "base_uri": "https://localhost:8080/"
        },
        "id": "tKxcDRF-c79D",
        "outputId": "27584df9-010e-4f40-ead9-c1501280c919"
      },
      "source": [
        "a.keys()"
      ],
      "execution_count": null,
      "outputs": [
        {
          "output_type": "execute_result",
          "data": {
            "text/plain": [
              "dict_keys(['b', 'c'])"
            ]
          },
          "metadata": {
            "tags": []
          },
          "execution_count": 24
        }
      ]
    },
    {
      "cell_type": "code",
      "metadata": {
        "colab": {
          "base_uri": "https://localhost:8080/"
        },
        "id": "ntZyZhfGc8aR",
        "outputId": "8dd0dd13-f6af-44f8-852c-708da89e38f6"
      },
      "source": [
        "a.values()"
      ],
      "execution_count": null,
      "outputs": [
        {
          "output_type": "execute_result",
          "data": {
            "text/plain": [
              "dict_values([5, 8])"
            ]
          },
          "metadata": {
            "tags": []
          },
          "execution_count": 25
        }
      ]
    },
    {
      "cell_type": "code",
      "metadata": {
        "colab": {
          "base_uri": "https://localhost:8080/"
        },
        "id": "f1zziBtMfkau",
        "outputId": "344ae84f-e9b7-4481-a31f-aa6034f2c335"
      },
      "source": [
        "a.items()"
      ],
      "execution_count": null,
      "outputs": [
        {
          "output_type": "execute_result",
          "data": {
            "text/plain": [
              "dict_items([('b', 5), ('c', 8)])"
            ]
          },
          "metadata": {
            "tags": []
          },
          "execution_count": 26
        }
      ]
    },
    {
      "cell_type": "code",
      "metadata": {
        "colab": {
          "base_uri": "https://localhost:8080/"
        },
        "id": "QE_G26zkfkzH",
        "outputId": "f7253126-ea2a-4051-e6a2-dbd7dda0c10d"
      },
      "source": [
        "for key in a:\n",
        "  print(key, a[key])"
      ],
      "execution_count": null,
      "outputs": [
        {
          "output_type": "stream",
          "text": [
            "b 5\n",
            "c 8\n"
          ],
          "name": "stdout"
        }
      ]
    },
    {
      "cell_type": "code",
      "metadata": {
        "colab": {
          "base_uri": "https://localhost:8080/"
        },
        "id": "V6fgzW9aflHn",
        "outputId": "0a048761-3a28-4798-cb05-66fede36725f"
      },
      "source": [
        "cities = {'KAR' : ['BANGALORE', 'MYSORE', 'BELGAUM'], \n",
        "          'UP' : ['GAZIABAD','KANPUR']}\n",
        "print(cities)"
      ],
      "execution_count": null,
      "outputs": [
        {
          "output_type": "stream",
          "text": [
            "{'KAR': ['BANGALORE', 'MYSORE', 'BELGAUM'], 'UP': ['GAZIABAD', 'KANPUR']}\n"
          ],
          "name": "stdout"
        }
      ]
    },
    {
      "cell_type": "code",
      "metadata": {
        "id": "hM3m296sgHQd"
      },
      "source": [
        "# Exception are runtime errors \n",
        "# IndexError : Index out of range\n",
        "# NameError : Refering to name which is not created.\n",
        "# KeyError : Accessing non-existing elements from dict.\n",
        "# ValueError : Trying to delete element from list which is not existing.\n",
        "# TypeError : "
      ],
      "execution_count": null,
      "outputs": []
    },
    {
      "cell_type": "code",
      "metadata": {
        "colab": {
          "base_uri": "https://localhost:8080/",
          "height": 218
        },
        "id": "Bd0fNdGogIPa",
        "outputId": "4849cc84-e374-448f-8629-9c5a92c0cf13"
      },
      "source": [
        "a = [12, 23, 34]\n",
        "# print(a [ 5 ])\n",
        "# a.remove(89)\n",
        "\"asf\" + 5\n",
        "print(\"Last line\")"
      ],
      "execution_count": null,
      "outputs": [
        {
          "output_type": "error",
          "ename": "TypeError",
          "evalue": "ignored",
          "traceback": [
            "\u001b[0;31m---------------------------------------------------------------------------\u001b[0m",
            "\u001b[0;31mTypeError\u001b[0m                                 Traceback (most recent call last)",
            "\u001b[0;32m<ipython-input-41-0da337c03173>\u001b[0m in \u001b[0;36m<module>\u001b[0;34m()\u001b[0m\n\u001b[1;32m      2\u001b[0m \u001b[0;31m# print(a [ 5 ])\u001b[0m\u001b[0;34m\u001b[0m\u001b[0;34m\u001b[0m\u001b[0;34m\u001b[0m\u001b[0m\n\u001b[1;32m      3\u001b[0m \u001b[0;31m# a.remove(89)\u001b[0m\u001b[0;34m\u001b[0m\u001b[0;34m\u001b[0m\u001b[0;34m\u001b[0m\u001b[0m\n\u001b[0;32m----> 4\u001b[0;31m \u001b[0;34m\"asf\"\u001b[0m \u001b[0;34m+\u001b[0m \u001b[0;36m5\u001b[0m\u001b[0;34m\u001b[0m\u001b[0;34m\u001b[0m\u001b[0m\n\u001b[0m\u001b[1;32m      5\u001b[0m \u001b[0mprint\u001b[0m\u001b[0;34m(\u001b[0m\u001b[0;34m\"Last line\"\u001b[0m\u001b[0;34m)\u001b[0m\u001b[0;34m\u001b[0m\u001b[0;34m\u001b[0m\u001b[0m\n",
            "\u001b[0;31mTypeError\u001b[0m: can only concatenate str (not \"int\") to str"
          ]
        }
      ]
    },
    {
      "cell_type": "code",
      "metadata": {
        "id": "Ih8tBzIigJLf"
      },
      "source": [
        "# print( city )"
      ],
      "execution_count": null,
      "outputs": []
    },
    {
      "cell_type": "code",
      "metadata": {
        "colab": {
          "base_uri": "https://localhost:8080/",
          "height": 166
        },
        "id": "dAd1Z8LSlpKD",
        "outputId": "1602812e-6c9b-4708-db8b-be34f1d93420"
      },
      "source": [
        "cities['TN']"
      ],
      "execution_count": null,
      "outputs": [
        {
          "output_type": "error",
          "ename": "KeyError",
          "evalue": "ignored",
          "traceback": [
            "\u001b[0;31m---------------------------------------------------------------------------\u001b[0m",
            "\u001b[0;31mKeyError\u001b[0m                                  Traceback (most recent call last)",
            "\u001b[0;32m<ipython-input-38-78604d4e4129>\u001b[0m in \u001b[0;36m<module>\u001b[0;34m()\u001b[0m\n\u001b[0;32m----> 1\u001b[0;31m \u001b[0mcities\u001b[0m\u001b[0;34m[\u001b[0m\u001b[0;34m'TN'\u001b[0m\u001b[0;34m]\u001b[0m\u001b[0;34m\u001b[0m\u001b[0;34m\u001b[0m\u001b[0m\n\u001b[0m",
            "\u001b[0;31mKeyError\u001b[0m: 'TN'"
          ]
        }
      ]
    },
    {
      "cell_type": "code",
      "metadata": {
        "id": "RHOL925Ol1gh"
      },
      "source": [
        "# try : try block, code where there is a possibility of an error occurring is placed in this block.\n",
        "# except (catch) : Write code to Handle the exception. \n",
        "# raise (throw) : this is used to raise an exception."
      ],
      "execution_count": null,
      "outputs": []
    },
    {
      "cell_type": "code",
      "metadata": {
        "colab": {
          "base_uri": "https://localhost:8080/",
          "height": 270
        },
        "collapsed": true,
        "id": "dyWWfKC4o1YC",
        "outputId": "8cc7a015-2a95-4b71-c334-ac86ffd63452"
      },
      "source": [
        "a = [12,23,21,45,23]\n",
        "\n",
        "print(\"Enter the index of element : \")\n",
        "try:\n",
        "  i = int(input())\n",
        "  \n",
        "  value = a[i]\n",
        "  print(\"Element at index {} = {}\".format(i,value))\n",
        "  i = i + \"a\"\n",
        "except (IndexError,ValueError):\n",
        "\tprint(\"Index Error\")\n",
        "except:\n",
        "  print(\"Generic Exception block\")\n",
        "print(\"End of program\")"
      ],
      "execution_count": null,
      "outputs": [
        {
          "output_type": "stream",
          "text": [
            "Enter the index of element : \n",
            "5\n"
          ],
          "name": "stdout"
        },
        {
          "output_type": "error",
          "ename": "TypeError",
          "evalue": "ignored",
          "traceback": [
            "\u001b[0;31m---------------------------------------------------------------------------\u001b[0m",
            "\u001b[0;31mTypeError\u001b[0m                                 Traceback (most recent call last)",
            "\u001b[0;32m<ipython-input-48-5bf56185e589>\u001b[0m in \u001b[0;36m<module>\u001b[0;34m()\u001b[0m\n\u001b[1;32m      4\u001b[0m \u001b[0;32mtry\u001b[0m\u001b[0;34m:\u001b[0m\u001b[0;34m\u001b[0m\u001b[0;34m\u001b[0m\u001b[0m\n\u001b[1;32m      5\u001b[0m   \u001b[0mi\u001b[0m \u001b[0;34m=\u001b[0m \u001b[0mint\u001b[0m\u001b[0;34m(\u001b[0m\u001b[0minput\u001b[0m\u001b[0;34m(\u001b[0m\u001b[0;34m)\u001b[0m\u001b[0;34m)\u001b[0m\u001b[0;34m\u001b[0m\u001b[0;34m\u001b[0m\u001b[0m\n\u001b[0;32m----> 6\u001b[0;31m   \u001b[0mi\u001b[0m \u001b[0;34m=\u001b[0m \u001b[0mi\u001b[0m \u001b[0;34m+\u001b[0m \u001b[0;34m\"a\"\u001b[0m\u001b[0;34m\u001b[0m\u001b[0;34m\u001b[0m\u001b[0m\n\u001b[0m\u001b[1;32m      7\u001b[0m   \u001b[0mvalue\u001b[0m \u001b[0;34m=\u001b[0m \u001b[0ma\u001b[0m\u001b[0;34m[\u001b[0m\u001b[0mi\u001b[0m\u001b[0;34m]\u001b[0m\u001b[0;34m\u001b[0m\u001b[0;34m\u001b[0m\u001b[0m\n\u001b[1;32m      8\u001b[0m   \u001b[0mprint\u001b[0m\u001b[0;34m(\u001b[0m\u001b[0;34m\"Element at index {} = {}\"\u001b[0m\u001b[0;34m.\u001b[0m\u001b[0mformat\u001b[0m\u001b[0;34m(\u001b[0m\u001b[0mi\u001b[0m\u001b[0;34m,\u001b[0m\u001b[0mvalue\u001b[0m\u001b[0;34m)\u001b[0m\u001b[0;34m)\u001b[0m\u001b[0;34m\u001b[0m\u001b[0;34m\u001b[0m\u001b[0m\n",
            "\u001b[0;31mTypeError\u001b[0m: unsupported operand type(s) for +: 'int' and 'str'"
          ]
        }
      ]
    },
    {
      "cell_type": "code",
      "metadata": {
        "colab": {
          "base_uri": "https://localhost:8080/"
        },
        "id": "Xlt5jn-4o15H",
        "outputId": "63f9d648-d886-45a3-a69f-3bc055f5a70a"
      },
      "source": [
        "import sys\n",
        "a = [12,23,21,45,23]\n",
        "\n",
        "print(\"Enter the index of element : \")\n",
        "try:\n",
        "  i = int(input())\n",
        "  \n",
        "  value = a[i]\n",
        "  print(\"Element at index {} = {}\".format(i,value))\n",
        "  i = i + \"a\"\n",
        "except:\n",
        "  print(\"Generic Exception block\")\n",
        "  print(sys.exc_info()[0])\n",
        "  print(sys.exc_info()[1])\n",
        "print(\"End of program\")"
      ],
      "execution_count": null,
      "outputs": [
        {
          "output_type": "stream",
          "text": [
            "Enter the index of element : \n",
            "8\n",
            "Generic Exception block\n",
            "<class 'IndexError'>\n",
            "list index out of range\n",
            "End of program\n"
          ],
          "name": "stdout"
        }
      ]
    },
    {
      "cell_type": "code",
      "metadata": {
        "colab": {
          "base_uri": "https://localhost:8080/"
        },
        "id": "P2XcQ9zpsCYu",
        "outputId": "70a499f9-4bc8-4185-f533-05de1666a3bd"
      },
      "source": [
        "try:\n",
        "  age = int(input(\"Enter the age\"))\n",
        "  if age < 18:\n",
        "    raise ValueError(\"Invalid age, cannot register\")\n",
        "  print(\"You are registered for vacination\")\n",
        "except:\n",
        "  errorInfo = sys.exc_info()\n",
        "  print(\"Type of error : \" , errorInfo[0])\n",
        "  print(\"Error Message : \" , errorInfo[1])"
      ],
      "execution_count": null,
      "outputs": [
        {
          "output_type": "stream",
          "text": [
            "Enter the age23\n",
            "You are registered for vacination\n"
          ],
          "name": "stdout"
        }
      ]
    },
    {
      "cell_type": "code",
      "metadata": {
        "id": "nFGvZgUUtnjH"
      },
      "source": [
        "def registerForVacination(age):  \n",
        "  if age < 18:\n",
        "    raise ValueError(\"Invalid age, cannot register\")\n",
        "  print(\"You are registered for vacination\")"
      ],
      "execution_count": null,
      "outputs": []
    },
    {
      "cell_type": "code",
      "metadata": {
        "id": "CKehUaErtoTz"
      },
      "source": [
        "try:\n",
        "  age = int(input(\"Enter the age\"))\n",
        "  registerForVacination(age)\n",
        "except:\n",
        "  errorInfo = sys.exc_info()\n",
        "  print(\"Type of error : \" , errorInfo[0])\n",
        "  print(\"Error Message : \" , errorInfo[1])"
      ],
      "execution_count": null,
      "outputs": []
    },
    {
      "cell_type": "markdown",
      "metadata": {
        "id": "z5gSKB0JxDFo"
      },
      "source": [
        "## Object Oriented Programming"
      ]
    },
    {
      "cell_type": "code",
      "metadata": {
        "id": "EYtT3ZYxw9zE"
      },
      "source": [
        "# class / structure\n",
        "class Employee:\n",
        "  pass"
      ],
      "execution_count": null,
      "outputs": []
    },
    {
      "cell_type": "code",
      "metadata": {
        "colab": {
          "base_uri": "https://localhost:8080/"
        },
        "id": "eLx6c63Stoou",
        "outputId": "01b6d77a-a760-4786-f05d-3cf17314c25e"
      },
      "source": [
        "e1 = Employee()\n",
        "print(type(e1))"
      ],
      "execution_count": null,
      "outputs": [
        {
          "output_type": "stream",
          "text": [
            "<class '__main__.Employee'>\n"
          ],
          "name": "stdout"
        }
      ]
    },
    {
      "cell_type": "code",
      "metadata": {
        "id": "E4y_u_Guw3l-"
      },
      "source": [
        "class Employee:\n",
        "  empid = 0  #This does not create instance memers\n",
        "  name = 0"
      ],
      "execution_count": null,
      "outputs": []
    },
    {
      "cell_type": "code",
      "metadata": {
        "id": "L2FSLzh_w4rw"
      },
      "source": [
        "class Employee:\n",
        "  def __init__(this):\n",
        "    this.empid = 0\n",
        "    this.name = \"NA\"\n",
        "    print(\"Object Created\")"
      ],
      "execution_count": null,
      "outputs": []
    },
    {
      "cell_type": "code",
      "metadata": {
        "colab": {
          "base_uri": "https://localhost:8080/"
        },
        "id": "QKMLynzRzM4q",
        "outputId": "6af4e09d-a22f-44ae-f153-287662efe479"
      },
      "source": [
        "e1 = Employee()\n",
        "print(e1.empid, e1.name)"
      ],
      "execution_count": null,
      "outputs": [
        {
          "output_type": "stream",
          "text": [
            "Object Created\n",
            "0 NA\n"
          ],
          "name": "stdout"
        }
      ]
    },
    {
      "cell_type": "code",
      "metadata": {
        "id": "CvD1YbfXzxDQ"
      },
      "source": [
        "class Employee:\n",
        "  def __init__(self, empid, name):\n",
        "    self.empid = empid\n",
        "    self.name = name\n",
        "    print(\"Object Created \" , id(self))\n",
        "  def __del__(self):\n",
        "    print(\"Object Destroyed \" , id(self))"
      ],
      "execution_count": null,
      "outputs": []
    },
    {
      "cell_type": "code",
      "metadata": {
        "colab": {
          "base_uri": "https://localhost:8080/"
        },
        "id": "hi3L-RLF1NH2",
        "outputId": "7933f999-1fdb-4dad-bd1f-74cb159a8100"
      },
      "source": [
        "\n",
        "e1 = Employee(1,\"Sikander\")\n",
        "print(e1.empid, e1.name)"
      ],
      "execution_count": null,
      "outputs": [
        {
          "output_type": "stream",
          "text": [
            "Object Created  140390684159184\n",
            "Object Destroyed  140390684510480\n",
            "1 Sikander\n"
          ],
          "name": "stdout"
        }
      ]
    },
    {
      "cell_type": "code",
      "metadata": {
        "colab": {
          "base_uri": "https://localhost:8080/"
        },
        "id": "7djU_m1F1gVJ",
        "outputId": "9d23529d-fa26-4136-cc2a-9d73ae191043"
      },
      "source": [
        "e2 = e1\n",
        "e1 = Employee(2,\"Padma\")"
      ],
      "execution_count": null,
      "outputs": [
        {
          "output_type": "stream",
          "text": [
            "Object Created  140390683855056\n",
            "Object Destroyed  140390683854864\n"
          ],
          "name": "stdout"
        }
      ]
    },
    {
      "cell_type": "code",
      "metadata": {
        "id": "FvCxWYIB2qLP"
      },
      "source": [
        "\n",
        "class Employee:\n",
        "  def __init__(self, empid, name):\n",
        "    self.empid = empid\n",
        "    self.name = name\n",
        "    print(\"Object Created \" , id(self))\n",
        "  def __del__(self):\n",
        "    print(\"Object Destroyed \" , id(self))\n",
        "\n",
        "\n",
        "#-------------------------------------------------\n",
        "if __name__ == \"__main__\":\n",
        "    e1 = Employee(1,\"Sikander\")\n",
        "    print(e1.empid, e1.name)\n"
      ],
      "execution_count": null,
      "outputs": []
    },
    {
      "cell_type": "code",
      "metadata": {
        "colab": {
          "base_uri": "https://localhost:8080/"
        },
        "id": "OQRnxEdVAEL8",
        "outputId": "bad0684e-199c-4f77-fdfa-92a13ba16c86"
      },
      "source": [
        "class Employee:\n",
        "  def __init__(self, empid, name):\n",
        "    self.empid = empid\n",
        "    self.name = name\n",
        "    print(\"Object Created \" , id(self))\n",
        "  def __del__(self):\n",
        "    print(\"Object Destroyed \" , id(self))\n",
        "\n",
        "  def __str__(self):  #operator <<\n",
        "    return str(self.empid) +\" \" + self.name\n",
        "  \n",
        "#-------------------------------------------------\n",
        "def fun():\n",
        "  e1 = Employee(1,\"Sikander\")\n",
        "  print(e1)\n",
        "  return e1\n",
        "\n",
        "if __name__ == \"__main__\":\n",
        "  x = fun()\n",
        "  print(\"I am back in main\")\n"
      ],
      "execution_count": null,
      "outputs": [
        {
          "output_type": "stream",
          "text": [
            "Object Created  140390683917520\n",
            "1 Sikander\n",
            "I am back in main\n"
          ],
          "name": "stdout"
        }
      ]
    },
    {
      "cell_type": "code",
      "metadata": {
        "colab": {
          "base_uri": "https://localhost:8080/"
        },
        "id": "g-8xS683Et3f",
        "outputId": "3e071d49-584d-4d94-a0e5-2c5a32fc1724"
      },
      "source": [
        "class Employee:\n",
        "  def __init__(self, empid, name):\n",
        "    self.empid = empid\n",
        "    self.name = name\n",
        "    print(\"Object Created \" , id(self))\n",
        "  def __del__(self):\n",
        "    print(\"Object Destroyed \" , id(self))\n",
        "\n",
        "  def __str__(self):  #operator <<\n",
        "    return str(self.empid) +\" \" + self.name\n",
        "\n",
        "  #__eq__ == , __ne__ != , __gt__ >, ge, lt, le\n",
        "  def __eq__(self,e2):\n",
        "    print(\"__eq__ called\")\n",
        "    return self.empid == e2.empid and self.name == e2.name\n",
        "  def __lt__(self, e2):\n",
        "#    return self.empid < e2.empid\n",
        "    return self.name < e2.name\n",
        "  \n",
        "#-------------------------------------------------\n",
        "\n",
        "if __name__ == \"__main__\":\n",
        "  employees = [ Employee(1,\"Sikander\"), Employee(32,\"Venkata Krishna\"),\n",
        "                Employee(56,\"Satish\"), Employee(41,\"Vinay\")]\n",
        "\n",
        "  for emp in employees:\n",
        "    print(emp)\n",
        "\n",
        "  employees = sorted(employees)\n",
        "  print(\"\\n---------------\\n\")\n",
        "  for emp in employees:\n",
        "    print(emp)"
      ],
      "execution_count": null,
      "outputs": [
        {
          "output_type": "stream",
          "text": [
            "Object Created  140390684158544\n",
            "Object Created  140390684158800\n",
            "Object Created  140390684157520\n",
            "Object Created  140390684159952\n",
            "Object Destroyed  140390683801168\n",
            "Object Destroyed  140390683802128\n",
            "Object Destroyed  140390683803152\n",
            "Object Destroyed  140390683799760\n",
            "1 Sikander\n",
            "32 Venkata Krishna\n",
            "56 Satish\n",
            "41 Vinay\n",
            "\n",
            "---------------\n",
            "\n",
            "56 Satish\n",
            "1 Sikander\n",
            "32 Venkata Krishna\n",
            "41 Vinay\n"
          ],
          "name": "stdout"
        }
      ]
    },
    {
      "cell_type": "code",
      "metadata": {
        "id": "3pnGWNGAExkc"
      },
      "source": [
        "class Employee:\n",
        "    counter = 0\n",
        "    def __init__(self,name):\n",
        "        Employee.counter = Employee.counter + 1\n",
        "        self.empid = Employee.counter\n",
        "        self.name = name\n",
        "  \n",
        "    def __str__(self):  #operator <<\n",
        "        return str(self.empid) +\" \" + self.name\n",
        "\n",
        "    def employeeCount( ):\n",
        "        print(\"Total number of employee objects : \" , Employee.counter)\n",
        "#-------------------------------------------------\n",
        "\n",
        "if __name__ == \"__main__\":\n",
        "    Employee.employeeCount()\n",
        "    \n",
        "    employees = [ Employee(\"Sikander\"), Employee(\"Venkata Krishna\"),\n",
        "                Employee(\"Satish\"), Employee(\"Vinay\")]\n",
        "\n",
        "    Employee.employeeCount()\n",
        "    \n",
        "    for emp in employees:\n",
        "        print(emp)"
      ],
      "execution_count": null,
      "outputs": []
    },
    {
      "cell_type": "code",
      "metadata": {
        "id": "942l5aOHKF_0"
      },
      "source": [
        "class Employee:\n",
        "    def __init__(self):\n",
        "        print(\"Employee(Base) init\")\n",
        "#-------------------------------------------------\n",
        "class Manager(Employee):\n",
        "    pass\n",
        "#-------------------------------------------------\n",
        "\n",
        "if __name__ == \"__main__\":\n",
        "    m1 = Manager()"
      ],
      "execution_count": null,
      "outputs": []
    },
    {
      "cell_type": "code",
      "metadata": {
        "id": "huDdf8TONLVS"
      },
      "source": [
        "class Employee:\n",
        "    def __init__(self,empid,name):\n",
        "        print(\"Employee(Base) init\")\n",
        "        self.__empid = empid\n",
        "        self.name = name\n",
        "    def __str__(self):\n",
        "        return str(self.__empid) + \" \" + self.name\n",
        "#-------------------------------------------------\n",
        "class Manager(Employee):\n",
        "    def __init__(self,empid,name,dept):\n",
        "        super().__init__(empid,name)\n",
        "        self.dept = dept\n",
        "        print(\"Manager(Derived) init\")\n",
        "\n",
        "    def __str__(self):\n",
        "        return super().__str__() + \" \" + self.dept\n",
        "#-------------------------------------------------\n",
        "\n",
        "if __name__ == \"__main__\":\n",
        "    m1 = Manager(1,\"Nagarjuna\",\"CLD\")\n",
        "    #print(m1.__empid, m1.name, m1.dept)\n",
        "    print(m1)"
      ],
      "execution_count": null,
      "outputs": []
    },
    {
      "cell_type": "markdown",
      "metadata": {
        "id": "4-lRFxOQX141"
      },
      "source": [
        "## Unit Testing"
      ]
    },
    {
      "cell_type": "code",
      "metadata": {
        "id": "emAhnvJZX8cI"
      },
      "source": [
        "#circle.py\n",
        "import math\n",
        "def circle_area(radius):\n",
        "    return math.pi * radius * radius\n"
      ],
      "execution_count": null,
      "outputs": []
    },
    {
      "cell_type": "code",
      "metadata": {
        "id": "dfZ0XMamX4Mg"
      },
      "source": [
        "#test_circle.py\n",
        "import unittest\n",
        "import math\n",
        "from circle import circle_area\n",
        "\n",
        "class TestCircle(unittest.TestCase):\n",
        "    def test_positve(self):\n",
        "        self.assertEqual( circle_area(10) , math.pi * 100 )\n",
        "#python -m unittest test_circle.py"
      ],
      "execution_count": null,
      "outputs": []
    },
    {
      "cell_type": "code",
      "metadata": {
        "id": "tJVBUwiTX6h5"
      },
      "source": [
        ""
      ],
      "execution_count": null,
      "outputs": []
    }
  ]
}