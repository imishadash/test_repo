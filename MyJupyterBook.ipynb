{
 "cells": [
  {
   "cell_type": "code",
   "execution_count": 1,
   "id": "8a7cc113",
   "metadata": {},
   "outputs": [],
   "source": [
    "#!/usr/bin/python3\n",
    "#to draw a circle of 8 cm \n",
    "import turtle\n",
    "t = turtle.Turtle()\n",
    "pixels = ( 96 * 1)/2.54\n",
    "r = 4*pixels\n",
    "r = r /1.1\n",
    "r=r*1.02\n",
    "t.clear()\n",
    "t.circle(r)"
   ]
  },
  {
   "cell_type": "code",
   "execution_count": null,
   "id": "ee2b4599",
   "metadata": {},
   "outputs": [],
   "source": [
    "turtle.bye()"
   ]
  },
  {
   "cell_type": "code",
   "execution_count": null,
   "id": "e6f1f14a",
   "metadata": {},
   "outputs": [],
   "source": []
  }
 ],
 "metadata": {
  "kernelspec": {
   "display_name": "Python 3",
   "language": "python",
   "name": "python3"
  },
  "language_info": {
   "codemirror_mode": {
    "name": "ipython",
    "version": 3
   },
   "file_extension": ".py",
   "mimetype": "text/x-python",
   "name": "python",
   "nbconvert_exporter": "python",
   "pygments_lexer": "ipython3",
   "version": "3.8.8"
  }
 },
 "nbformat": 4,
 "nbformat_minor": 5
}
